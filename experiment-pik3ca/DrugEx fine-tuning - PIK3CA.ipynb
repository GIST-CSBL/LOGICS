{
 "cells": [
  {
   "cell_type": "code",
   "execution_count": 1,
   "id": "20719945",
   "metadata": {},
   "outputs": [],
   "source": [
    "import sys\n",
    "sys.path.append('..')"
   ]
  },
  {
   "cell_type": "code",
   "execution_count": 2,
   "id": "614c948d",
   "metadata": {},
   "outputs": [],
   "source": [
    "from logics_pack import global_settings, chemistry, drugex, predictor, reward_functions\n",
    "from logics_pack import analysis, smiles_vocab, smiles_lstm\n",
    "import pandas as pd\n",
    "import numpy as np\n",
    "import json\n",
    "import torch\n",
    "\n",
    "project_paths = global_settings.build_project_paths(project_dir='../')\n",
    "expset_obj = global_settings.ExperimentSettings(project_paths['EXPERIMENT_SETTINGS_JSON'])"
   ]
  },
  {
   "cell_type": "markdown",
   "id": "5e4b374f",
   "metadata": {},
   "source": [
    "Perform DrugEx fine-tuning to build agent generator"
   ]
  },
  {
   "cell_type": "code",
   "execution_count": 3,
   "id": "9ab09826",
   "metadata": {},
   "outputs": [],
   "source": [
    "config = global_settings.Object()\n",
    "config.tokens_path = project_paths['SMILES_TOKENS_PATH']\n",
    "config.pretrain_setting_path = project_paths['PRETRAIN_SETTING_JSON']\n",
    "config.pretrained_model_path = project_paths['PROJECT_DIR'] + 'model-prior/prior_e10.ckpt'\n",
    "config.featurizer = predictor.featurizer\n",
    "config.predictor_path = project_paths['PROJECT_DIR'] + \\\n",
    "                            \"model-pik3ca/predictor/pik3ca_rfr_cv%s.pkl\"%expset_obj.get_setting(\"pik3ca-pred-best-cv\")\n",
    "\n",
    "config.max_epoch = 4500\n",
    "config.save_period = 90\n",
    "config.save_size = 20000\n",
    "config.save_ckpt_fmt = project_paths['PROJECT_DIR'] + 'model-pik3ca/drugex/pik3ca_drugex_e%d.ckpt'\n",
    "config.sample_fmt = project_paths['PROJECT_DIR'] +'model-pik3ca/drugex/pik3ca_drugex_e%d.txt'\n",
    "config.train_batch_size = 128\n",
    "config.scaler = 10\n",
    "config.rewarding = reward_functions.pAff_to_reward_t2\n",
    "config.beta = 0.1\n",
    "config.epsilon = 0.1\n",
    "config.finetune_lr = 0.0002\n",
    "config.sampling_bs = 256\n",
    "\n",
    "config.device_name = 'cpu'"
   ]
  },
  {
   "cell_type": "code",
   "execution_count": null,
   "id": "a0c2faf7",
   "metadata": {},
   "outputs": [],
   "source": [
    "# perform fine-tuning\n",
    "drugex.DrugEx_training(config)"
   ]
  },
  {
   "cell_type": "markdown",
   "id": "0b0f9fbf",
   "metadata": {},
   "source": [
    "Load DrugEx agent generator and sample some examples"
   ]
  },
  {
   "cell_type": "code",
   "execution_count": 4,
   "id": "8e3ce03b",
   "metadata": {},
   "outputs": [
    {
     "data": {
      "text/plain": [
       "<All keys matched successfully>"
      ]
     },
     "execution_count": 4,
     "metadata": {},
     "output_type": "execute_result"
    }
   ],
   "source": [
    "vocab_obj = smiles_vocab.Vocabulary(init_from_file=config.tokens_path)\n",
    "smtk = smiles_vocab.SmilesTokenizer(vocab_obj)\n",
    "\n",
    "with open(config.pretrain_setting_path, 'r') as f:\n",
    "    model_setting = json.load(f)\n",
    "    \n",
    "# load agent model (epoch=4230)\n",
    "agent_ckpt = torch.load(config.save_ckpt_fmt%4230, map_location='cpu')\n",
    "lstm_agent = smiles_lstm.SmilesLSTMGenerator(vocab_obj, model_setting['emb_size'], model_setting['hidden_units'], device_name='cpu')\n",
    "lstm_agent.lstm.load_state_dict(agent_ckpt['model_state_dict'])"
   ]
  },
  {
   "cell_type": "code",
   "execution_count": 5,
   "id": "aa49143a",
   "metadata": {
    "scrolled": true
   },
   "outputs": [
    {
     "data": {
      "text/plain": [
       "['CN1C(=O)N(CC(N)=O)CC1(C)c1ccc(OCc2ccc3ccc([N+](=O)[O-])cc3n2)cc1',\n",
       " 'C=CC(=O)NC1=CC(=O)CN1c1nc(-c2ccc(OCc3ccc(C#N)cc3)cc2)c2cc(OC)c(OC)cc2n1',\n",
       " 'CSc1ncc(C(=NO)c2ccc(COc3ccc(C(C)C)cc3)cc2)c2c1CCC2',\n",
       " 'C=C1C(OC(=O)c2ccc(OCc3ccccc3)cc2)CCC2(C)C1CCC1(C)C2CC(OC(=O)CC2CC2)C(C(=O)OCC)C1C(C)=O',\n",
       " 'COc1ccc(OCc2cc(C(=O)N3CCS(=O)(=O)CC3)no2)cc1',\n",
       " 'COc1cc(NCC(C)NCCc2ccc(OCc3ccccc3)cc2)cc(OC)c1OC',\n",
       " 'CNc1nc(C)c(-c2cccc(OC)c2OC)c(C(=O)O)n1',\n",
       " 'COc1ccc(CCN(CC(=O)NO)C(=O)c2snc(C(=O)N3CCOCC3)c2-c2cccs2)cc1-n1cc(C(F)(F)F)cc1C(C)(C)C',\n",
       " 'COc1ccc(C(=O)NCC(=O)NCCc2ccccn2)cc1Cl',\n",
       " 'COC(=O)N1CCN(c2cccc(OCc3csc(-c4ccccc4)n3)c2)CC1',\n",
       " 'Oc1nc2cc(Cl)cc(Cl)c2c(-c2ccc(OCc3cn(-c4ccccc4)nn3)cc2)c1C=Nc1ncc(Cc2cc(F)cc(F)c2)s1',\n",
       " 'COc1cccc(N)c1NS(=O)(=O)C=Cc1ccc(OCc2ccc3ccccc3n2)cc1',\n",
       " 'O=C1CC(Nc2cccc(O)c2)C(c2ccc(OCc3c(F)cccc3Cl)cc2)N1c1cccc(CO)c1',\n",
       " 'CCOC(=O)C1CCN(S(=O)(=O)c2ccc(OC)cc2[N+](=O)[O-])CC1c1ccccc1NS(=O)(=O)c1ccc(OCc2ccccc2)cc1',\n",
       " 'COc1cc2c(Oc3ccc(NC(=O)c4c(Cl)cncc4Cl)cc3F)ccnc2cc1OCCCN1CCC(F)(F)CC1',\n",
       " 'O=C(NN=Cc1ccccc1Nc1ccc(OCc2ccccc2)cc1Oc1ccc(C(F)(F)F)cc1F)c1ccc(O)c(COc2ccc(Cl)cc2)c1',\n",
       " 'CCN(CC)C(=O)c1ccc(COc2ccc(C=C3C(=O)N(CC(=O)O)c4ccccc43)cc2)cc1',\n",
       " 'CCn1nc(NC(=O)C#CCNS(=O)(=O)c2ccc(OCc3c(C)cccc3C)cc2)c2ccc(C(=O)O)cc21',\n",
       " 'NS(=O)(=O)c1ccc(CNCCc2cccc(COCC(=O)O)c2)cc1-c1cccc(COc2ccccc2)c1',\n",
       " 'COc1ccc(C(=O)C=Cc2ccc(OCc3csc(-c4ccc(C#N)cc4)c3)cc2)cc1',\n",
       " 'Cc1cccc(C(=O)NCCCCN2CCc3cc(OCc4ccccc4)ccc3C2=O)c1-c1ccc(Cl)cc1NC(=O)Nc1cccc(COC(=O)N(C)C)c1',\n",
       " 'N#Cc1ccccc1NN=C1C(=O)N(CCc2ccccc2)c2cc(OCc3cccc(F)c3)ccc21',\n",
       " 'COc1cc(OC)c(C(=O)c2ccc(OCc3ccc(F)cc3)cc2)cc1OC',\n",
       " 'COc1cc(C(=O)NS(=O)(=O)c2cccc(C(=O)O)c2)cc(OC)c1N1C(=O)c2ccc(N3CCCC3)cc2C1c1ccc(O)cc1N(CCO)S(C)(=O)=O',\n",
       " 'NS(=O)(=O)c1ccc(COC(=O)Nc2ccc(OCc3ccccc3)cc2)cc1',\n",
       " 'Cc1ccc(OCc2nnc(-c3ccccc3C)o2)cc1NC(=O)NC1CCC(C)CC1',\n",
       " 'COC(=O)N1CCN(c2ccc(OCc3ccc(C(=O)O)cc3)cc2C)CC1',\n",
       " 'COc1cccc(N(CC(=O)NCCSc2nccn2Cc2ccc(OCc3ccc(C(F)(F)F)cc3)cc2)S(C)(=O)=O)c1',\n",
       " 'COc1ccc(C(Cc2ccc(OCc3c(Cl)cccc3Cl)cc2)C(=O)O)cc1OCCCN(C)C',\n",
       " 'CCOC(=O)N1CCC(C(=O)NCCc2ccc(OCc3ccccc3)cc2)CC1',\n",
       " 'CC12CCC(O)CC1(N)CC(C)(C)C2C(=O)c1ccc(O)cc1NS(=O)(=O)c1ccc(COc2ccc(OCC(=O)NCCc3ccccc3)cc2)cc1',\n",
       " 'NS(=O)(=O)c1ccc(Cn2ccc3cc(OCc4ccccc4)ccc32)cc1',\n",
       " 'Cc1ccc(CN2C(=O)c3ccc(OCc4ccc5ccccc5n4)cc3C2=O)cc1',\n",
       " 'COc1ccccc1NC(=O)c1nc2nc(COc3ccccc3)cc(O)c2cc1-c1ccc(OCc2ccccc2)cc1',\n",
       " 'Cc1noc(C)c1S(=O)(=O)Nc1nc2ccc(OCc3cccc(CO)c3)cc2s1',\n",
       " 'CC(=O)N1C2CC(c3cccc(OCc4ccccc4)c31)C(C)(C)C2',\n",
       " 'NS(=O)(=O)c1ccc(COc2ccc(CN3CCN(Cc4ccc(OCc5ccccc5)cc4)CC3)cc2)cc1',\n",
       " 'Cc1nc(CCC(=O)NC(C)C(=O)N2CCN(c3ncc(C(=O)NCCCN4CCCC4)cc3)CC2)c(C)n1-c1ccc(Cl)cc1C(=O)c1cccc(OCc2ccccc2)c1',\n",
       " 'CN(Cc1ccc2nc(N)nc(O)c2c1)c1cc(Cl)cc(Cl)c1NC(=O)Nc1ccc(OCc2ccc3ccccc3n2)cc1',\n",
       " 'CN(C)CCNC(=O)C1(c2ccc(OCc3ccccc3)cc2)CCC1',\n",
       " 'CN(CCc1ccc(O)c(CN(C)CC(=O)NC(C)(C)C)c1)C(=O)c1ccc(COc2ccccc2)cc1',\n",
       " 'Cc1ccc(-c2nc3ccc(OCc4ccc(C(=O)O)cc4)cc3s2)cc1NC(=O)C(C)OC(=O)C(C)(C)C',\n",
       " 'COc1ccc(NS(C)(=O)=O)cc1S(=O)(=O)NC1CN(CS(N)(=O)=O)C(c2ccc(OCc3ccccc3)cc2)CO1',\n",
       " 'COc1ccc(C(=O)NCCc2ccc(S(C)(=O)=O)cc2)c2ccc(OCc3ccc4ccn(C)c4c3)cc12',\n",
       " 'CCc1nc2ccc(C(=O)NCCc3ccc(F)cc3)cn2c1NCCc1ccc(OCc2c(C)noc2C)cc1',\n",
       " 'O=C(NC(Cc1ccc(OCc2ccccc2)cc1)C(O)C(=O)N1CCCCC1)c1cc(C(F)(F)F)ccc1N1CCOCC1',\n",
       " 'CC(C(=O)NCCc1ccc(CO)cc1)c1ccc(NS(=O)(=O)c2cc(C(F)(F)F)ccc2NS(=O)(=O)C(F)(F)F)cc1-c1nc2ccc(OCc3cccc(C#N)c3)cc2c(=O)n1-c1ccccc1N',\n",
       " 'CN(C)CCOC(=O)Nc1ccc(OCc2ccc(F)cc2)cc1',\n",
       " 'COC(=O)C1C(C)N1c1ccc(OCc2ccc3ccccc3n2)cc1',\n",
       " 'CCS(=O)(=O)N1CCC(C(=O)Nc2ccc(OCc3cccc(Cl)c3)cc2)C1']"
      ]
     },
     "metadata": {},
     "output_type": "display_data"
    }
   ],
   "source": [
    "# sampling\n",
    "ssplr = analysis.SafeSampler(lstm_agent, batch_size=16)\n",
    "generated_smiles = ssplr.sample_clean(50, maxlen=150)\n",
    "display(generated_smiles)"
   ]
  },
  {
   "cell_type": "markdown",
   "id": "6bc6857b",
   "metadata": {},
   "source": [
    "Subsidiary files building for evaluation phase"
   ]
  },
  {
   "cell_type": "code",
   "execution_count": 6,
   "id": "26dea3c7",
   "metadata": {},
   "outputs": [],
   "source": [
    "config.vc_fmt = project_paths['PROJECT_DIR'] + 'model-pik3ca/drugex/pik3ca_drugex_vc_e%d.smi'  # save valid & canonical smiles\n",
    "config.npfps_fmt = project_paths['PROJECT_DIR'] + 'model-pik3ca/drugex/pik3ca_drugex_npfps_e%d.npy'  # save fingerprint in npy\n",
    "config.fcvec_fmt = project_paths['PROJECT_DIR'] + 'model-pik3ca/drugex/pik3ca_drugex_fcvec_e%d.npy'  # save Frechet ChemNet vectors\n",
    "\n",
    "# epochs = list(range(0, config.max_epoch+1, config.save_period))\n",
    "epochs = [4230]"
   ]
  },
  {
   "cell_type": "code",
   "execution_count": 7,
   "id": "eea25ad5",
   "metadata": {
    "scrolled": true
   },
   "outputs": [
    {
     "name": "stderr",
     "output_type": "stream",
     "text": [
      "Using TensorFlow backend.\n"
     ]
    },
    {
     "name": "stdout",
     "output_type": "stream",
     "text": [
      "WARNING:tensorflow:From /home/bsbae402/anaconda3/envs/logics/lib/python3.7/site-packages/tensorflow_core/python/ops/resource_variable_ops.py:1630: calling BaseResourceVariable.__init__ (from tensorflow.python.ops.resource_variable_ops) with constraint is deprecated and will be removed in a future version.\n",
      "Instructions for updating:\n",
      "If using Keras pass *_constraint arguments to layers.\n",
      "WARNING:tensorflow:From /home/bsbae402/anaconda3/envs/logics/lib/python3.7/site-packages/keras/backend/tensorflow_backend.py:3313: where (from tensorflow.python.ops.array_ops) is deprecated and will be removed in a future version.\n",
      "Instructions for updating:\n",
      "Use tf.where in 2.0, which has the same broadcast rule as np.where\n"
     ]
    },
    {
     "name": "stderr",
     "output_type": "stream",
     "text": [
      "2023-03-23 14:23:07.430230: I tensorflow/stream_executor/platform/default/dso_loader.cc:44] Successfully opened dynamic library libcuda.so.1\n",
      "2023-03-23 14:23:07.443789: E tensorflow/stream_executor/cuda/cuda_driver.cc:318] failed call to cuInit: CUDA_ERROR_NO_DEVICE: no CUDA-capable device is detected\n",
      "2023-03-23 14:23:07.443839: I tensorflow/stream_executor/cuda/cuda_diagnostics.cc:169] retrieving CUDA diagnostic information for host: shepherd5\n",
      "2023-03-23 14:23:07.443847: I tensorflow/stream_executor/cuda/cuda_diagnostics.cc:176] hostname: shepherd5\n",
      "2023-03-23 14:23:07.443986: I tensorflow/stream_executor/cuda/cuda_diagnostics.cc:200] libcuda reported version is: 465.19.1\n",
      "2023-03-23 14:23:07.444022: I tensorflow/stream_executor/cuda/cuda_diagnostics.cc:204] kernel reported version is: 465.19.1\n",
      "2023-03-23 14:23:07.444029: I tensorflow/stream_executor/cuda/cuda_diagnostics.cc:310] kernel version seems to match DSO: 465.19.1\n",
      "2023-03-23 14:23:07.445375: I tensorflow/core/platform/cpu_feature_guard.cc:142] Your CPU supports instructions that this TensorFlow binary was not compiled to use: AVX2 FMA\n",
      "2023-03-23 14:23:07.463367: I tensorflow/core/platform/profile_utils/cpu_utils.cc:94] CPU Frequency: 2300040000 Hz\n",
      "2023-03-23 14:23:07.467322: I tensorflow/compiler/xla/service/service.cc:168] XLA service 0x65e0930 initialized for platform Host (this does not guarantee that XLA will be used). Devices:\n",
      "2023-03-23 14:23:07.467365: I tensorflow/compiler/xla/service/service.cc:176]   StreamExecutor device (0): Host, Default Version\n"
     ]
    },
    {
     "name": "stdout",
     "output_type": "stream",
     "text": [
      "WARNING:tensorflow:From /home/bsbae402/anaconda3/envs/logics/lib/python3.7/site-packages/keras/backend/tensorflow_backend.py:422: The name tf.global_variables is deprecated. Please use tf.compat.v1.global_variables instead.\n",
      "\n"
     ]
    }
   ],
   "source": [
    "import os\n",
    "os.environ['CUDA_VISIBLE_DEVICES'] = '-1'  # use tensorflow cpu\n",
    "\n",
    "import fcd\n",
    "from logics_pack import frechet_chemnet\n",
    "fc_ref_model = fcd.load_ref_model()"
   ]
  },
  {
   "cell_type": "code",
   "execution_count": 9,
   "id": "c6a42d8e",
   "metadata": {},
   "outputs": [
    {
     "name": "stdout",
     "output_type": "stream",
     "text": [
      "4230\n",
      "- count invalids:  336\n"
     ]
    }
   ],
   "source": [
    "for epo in epochs:\n",
    "    print(epo)\n",
    "    with open(config.sample_fmt%epo, 'r') as f:\n",
    "        gens = [line.strip() for line in f.readlines()]\n",
    "    vcs, invids = chemistry.get_valid_canons(gens)\n",
    "    print(\"- count invalids: \", len(invids))\n",
    "    with open(config.vc_fmt%epo, 'w') as f:\n",
    "        f.writelines([line+'\\n' for line in vcs])\n",
    "    fps = chemistry.get_fps_from_smilist(vcs)\n",
    "    np.save(config.npfps_fmt%epo, chemistry.rdk2npfps(fps))\n",
    "    fcvecs = fcd.get_predictions(fc_ref_model, vcs)  # ChemNet vectors\n",
    "    np.save(config.fcvec_fmt%epo, fcvecs)"
   ]
  },
  {
   "cell_type": "markdown",
   "id": "080a865b",
   "metadata": {},
   "source": [
    "Evaluate FCD and OTD on validation set, and pick the best epoch"
   ]
  },
  {
   "cell_type": "code",
   "execution_count": 10,
   "id": "c61b81f5",
   "metadata": {},
   "outputs": [],
   "source": [
    "# loading validation dataset\n",
    "with open(project_paths['PIK3CA_FOLD_JSON'], 'r') as f:\n",
    "    pik3_folds = json.load(f)\n",
    "data_npfps = np.load(project_paths['PIK3CA_DATA_FP'])\n",
    "data_fcvecs = np.load(project_paths['PIK3CA_DATA_FCVEC'])\n",
    "\n",
    "val_fold_id = expset_obj.get_setting('pik3ca-pred-best-cv')\n",
    "val_npfps = data_npfps[pik3_folds[val_fold_id]]\n",
    "val_rdkfps = chemistry.np2rdkfps(val_npfps)\n",
    "val_fcvecs = data_fcvecs[pik3_folds[val_fold_id]]\n",
    "\n",
    "dsize = len(val_rdkfps)  # demand size for OT\n",
    "ssize = dsize*global_settings.OT_CALC_REPEATS  # supply size for repeated OT   "
   ]
  },
  {
   "cell_type": "code",
   "execution_count": 11,
   "id": "1c1bd8a6",
   "metadata": {},
   "outputs": [
    {
     "name": "stdout",
     "output_type": "stream",
     "text": [
      "4230\n"
     ]
    }
   ],
   "source": [
    "val_fcd_list = []\n",
    "val_otd_list = []\n",
    "for epo in epochs:\n",
    "    print(epo)\n",
    "    # load fc vectors of generation\n",
    "    gen_fcvecs = np.load(config.fcvec_fmt%epo)\n",
    "    fcdval = frechet_chemnet.fcd_calculation(val_fcvecs, gen_fcvecs)\n",
    "    val_fcd_list.append(fcdval)\n",
    "    \n",
    "    gen_npfps = np.load(config.npfps_fmt%epo)[:ssize]  # only need this amount\n",
    "    gen_rdkfps = chemistry.np2rdkfps(gen_npfps)\n",
    "    simmat = analysis.calculate_simmat(gen_rdkfps, val_rdkfps)  # row:gen, col:data\n",
    "    distmat = analysis.transport_distmat(analysis.tansim_to_dist, simmat, global_settings.OT_CALC_REPEATS)\n",
    "    _, _, motds = analysis.repeated_optimal_transport(distmat, repeat=global_settings.OT_CALC_REPEATS)\n",
    "    val_otd_list.append(np.mean(motds))"
   ]
  },
  {
   "cell_type": "code",
   "execution_count": 12,
   "id": "79993df5",
   "metadata": {},
   "outputs": [],
   "source": [
    "# validation FCDxOTD\n",
    "val_FCDxOTD = np.array(val_fcd_list)*np.array(val_otd_list)\n",
    "# find the best epoch\n",
    "best_epoch = epochs[np.argmin(val_FCDxOTD)]\n",
    "# register the best epoch\n",
    "expset_obj.update_setting('pik3ca-drugex-best-epoch', best_epoch)"
   ]
  },
  {
   "cell_type": "code",
   "execution_count": 13,
   "id": "1569f5e9",
   "metadata": {},
   "outputs": [
    {
     "name": "stdout",
     "output_type": "stream",
     "text": [
      "4230\n"
     ]
    }
   ],
   "source": [
    "print(expset_obj.get_setting('pik3ca-drugex-best-epoch'))"
   ]
  },
  {
   "cell_type": "code",
   "execution_count": null,
   "id": "8500765c",
   "metadata": {},
   "outputs": [],
   "source": []
  }
 ],
 "metadata": {
  "kernelspec": {
   "display_name": "logics",
   "language": "python",
   "name": "logics"
  },
  "language_info": {
   "codemirror_mode": {
    "name": "ipython",
    "version": 3
   },
   "file_extension": ".py",
   "mimetype": "text/x-python",
   "name": "python",
   "nbconvert_exporter": "python",
   "pygments_lexer": "ipython3",
   "version": "3.7.16"
  }
 },
 "nbformat": 4,
 "nbformat_minor": 5
}
