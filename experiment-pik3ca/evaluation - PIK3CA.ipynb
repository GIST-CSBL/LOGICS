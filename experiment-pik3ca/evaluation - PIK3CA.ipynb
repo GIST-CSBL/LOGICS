{
 "cells": [
  {
   "cell_type": "code",
   "execution_count": 1,
   "id": "4b2eaeab",
   "metadata": {},
   "outputs": [],
   "source": [
    "import sys\n",
    "sys.path.append('..')"
   ]
  },
  {
   "cell_type": "code",
   "execution_count": 2,
   "id": "c6214009",
   "metadata": {},
   "outputs": [
    {
     "name": "stderr",
     "output_type": "stream",
     "text": [
      "Using TensorFlow backend.\n"
     ]
    },
    {
     "data": {
      "text/plain": [
       "dict_keys(['kor-pred-best-cv', 'pik3ca-pred-best-cv', 'kor-logics-best-epoch', 'kor-vgpc-best-epoch', 'kor-segler-best-epoch', 'kor-reinv-best-epoch', 'kor-drugex-best-epoch', 'pik3ca-logics-best-epoch', 'pik3ca-segler-best-epoch', 'pik3ca-vgpc-best-epoch', 'pik3ca-reinv-best-epoch', 'pik3ca-drugex-best-epoch'])"
      ]
     },
     "execution_count": 2,
     "metadata": {},
     "output_type": "execute_result"
    }
   ],
   "source": [
    "import pandas as pd\n",
    "import numpy as np\n",
    "import pickle\n",
    "import json\n",
    "from logics_pack import global_settings, analysis, chemistry, evaluation, frechet_chemnet\n",
    "import fcd\n",
    "\n",
    "project_paths = global_settings.build_project_paths(project_dir='../')\n",
    "expset_obj = global_settings.ExperimentSettings(project_paths['EXPERIMENT_SETTINGS_JSON'])\n",
    "expset_obj.get_keys()"
   ]
  },
  {
   "cell_type": "code",
   "execution_count": 3,
   "id": "8abe6a09",
   "metadata": {},
   "outputs": [],
   "source": [
    "## run this cell in case CuDNN library error occurs \n",
    "import os\n",
    "os.environ['CUDA_VISIBLE_DEVICES'] = '-1'"
   ]
  },
  {
   "cell_type": "code",
   "execution_count": 4,
   "id": "942dbb4e",
   "metadata": {
    "scrolled": true
   },
   "outputs": [
    {
     "name": "stdout",
     "output_type": "stream",
     "text": [
      "WARNING:tensorflow:From /home/bsbae402/anaconda3/envs/logics/lib/python3.7/site-packages/tensorflow_core/python/ops/resource_variable_ops.py:1630: calling BaseResourceVariable.__init__ (from tensorflow.python.ops.resource_variable_ops) with constraint is deprecated and will be removed in a future version.\n",
      "Instructions for updating:\n",
      "If using Keras pass *_constraint arguments to layers.\n",
      "WARNING:tensorflow:From /home/bsbae402/anaconda3/envs/logics/lib/python3.7/site-packages/keras/backend/tensorflow_backend.py:3313: where (from tensorflow.python.ops.array_ops) is deprecated and will be removed in a future version.\n",
      "Instructions for updating:\n",
      "Use tf.where in 2.0, which has the same broadcast rule as np.where\n"
     ]
    },
    {
     "name": "stderr",
     "output_type": "stream",
     "text": [
      "2023-04-12 16:21:11.707773: I tensorflow/stream_executor/platform/default/dso_loader.cc:44] Successfully opened dynamic library libcuda.so.1\n",
      "2023-04-12 16:21:11.749494: E tensorflow/stream_executor/cuda/cuda_driver.cc:318] failed call to cuInit: CUDA_ERROR_NO_DEVICE: no CUDA-capable device is detected\n",
      "2023-04-12 16:21:11.749526: I tensorflow/stream_executor/cuda/cuda_diagnostics.cc:169] retrieving CUDA diagnostic information for host: shepherd7\n",
      "2023-04-12 16:21:11.749532: I tensorflow/stream_executor/cuda/cuda_diagnostics.cc:176] hostname: shepherd7\n",
      "2023-04-12 16:21:11.749637: I tensorflow/stream_executor/cuda/cuda_diagnostics.cc:200] libcuda reported version is: 465.19.1\n",
      "2023-04-12 16:21:11.749665: I tensorflow/stream_executor/cuda/cuda_diagnostics.cc:204] kernel reported version is: 465.19.1\n",
      "2023-04-12 16:21:11.749670: I tensorflow/stream_executor/cuda/cuda_diagnostics.cc:310] kernel version seems to match DSO: 465.19.1\n",
      "2023-04-12 16:21:11.750618: I tensorflow/core/platform/cpu_feature_guard.cc:142] Your CPU supports instructions that this TensorFlow binary was not compiled to use: AVX2 AVX512F FMA\n",
      "2023-04-12 16:21:11.772683: I tensorflow/core/platform/profile_utils/cpu_utils.cc:94] CPU Frequency: 2300000000 Hz\n",
      "2023-04-12 16:21:11.779320: I tensorflow/compiler/xla/service/service.cc:168] XLA service 0xa843170 initialized for platform Host (this does not guarantee that XLA will be used). Devices:\n",
      "2023-04-12 16:21:11.779373: I tensorflow/compiler/xla/service/service.cc:176]   StreamExecutor device (0): Host, Default Version\n"
     ]
    },
    {
     "name": "stdout",
     "output_type": "stream",
     "text": [
      "WARNING:tensorflow:From /home/bsbae402/anaconda3/envs/logics/lib/python3.7/site-packages/keras/backend/tensorflow_backend.py:422: The name tf.global_variables is deprecated. Please use tf.compat.v1.global_variables instead.\n",
      "\n"
     ]
    }
   ],
   "source": [
    "fc_ref_model = fcd.load_ref_model()"
   ]
  },
  {
   "cell_type": "code",
   "execution_count": 5,
   "id": "c0658811",
   "metadata": {},
   "outputs": [],
   "source": [
    "SAMPLE_SIZE = 20000  # we sampled and saved 20k for each model\n",
    "INTDIV_SIZE = 1000  # sample size to be used for intdiv calculation\n",
    "\n",
    "# we need to fillout the following table\n",
    "perf_table = pd.DataFrame(index=['validity','uniqueness','novelty','diversity','PredAct','PwSim','FCD','OTD'], \n",
    "                        columns=['prior','vgpc','segler','reinv','drugex','logics'])\n",
    "model_names = perf_table.columns.tolist()\n",
    "metrics = perf_table.index.tolist()"
   ]
  },
  {
   "cell_type": "code",
   "execution_count": 6,
   "id": "19e1a2d8",
   "metadata": {},
   "outputs": [
    {
     "data": {
      "text/plain": [
       "{'prior': 10,\n",
       " 'vgpc': 16,\n",
       " 'segler': 150,\n",
       " 'reinv': 21000,\n",
       " 'drugex': 4230,\n",
       " 'logics': 200}"
      ]
     },
     "execution_count": 6,
     "metadata": {},
     "output_type": "execute_result"
    }
   ],
   "source": [
    "# recorded epochs for each model\n",
    "model_e = {\n",
    "    'prior': 10, \n",
    "    'vgpc':int(expset_obj.get_setting('pik3ca-vgpc-best-epoch')),\n",
    "    'segler':int(expset_obj.get_setting('pik3ca-segler-best-epoch')), \n",
    "    'reinv':int(expset_obj.get_setting('pik3ca-reinv-best-epoch')), \n",
    "    'drugex':int(expset_obj.get_setting('pik3ca-drugex-best-epoch')),\n",
    "    'logics':int(expset_obj.get_setting('pik3ca-logics-best-epoch')),\n",
    "}\n",
    "model_e"
   ]
  },
  {
   "cell_type": "code",
   "execution_count": 7,
   "id": "7b0db5d5",
   "metadata": {},
   "outputs": [],
   "source": [
    "# generation file paths\n",
    "paths_vc = {\n",
    "    'prior': project_paths['PROJECT_DIR']+'model-prior/prior_vc_e{}.smi'.format(model_e['prior']),\n",
    "    'vgpc': project_paths['PROJECT_DIR']+'model-pik3ca/vgpc/pik3ca_vgpc_vc_e{}.smi'.format(model_e['vgpc']),\n",
    "    'segler': project_paths['PROJECT_DIR']+'model-pik3ca/segler/pik3ca_segler_vc_e{}.smi'.format(model_e['segler']),\n",
    "    'reinv': project_paths['PROJECT_DIR']+'model-pik3ca/reinvent/pik3ca_reinv_vc_e{}.smi'.format(model_e['reinv']),\n",
    "    'drugex': project_paths['PROJECT_DIR']+'model-pik3ca/drugex/pik3ca_drugex_vc_e{}.smi'.format(model_e['drugex']),\n",
    "    'logics': project_paths['PROJECT_DIR']+'model-pik3ca/logics/pik3ca_logics_vc_e{}.smi'.format(model_e['logics'])\n",
    "}\n",
    "paths_npfps = {\n",
    "    'prior': project_paths['PROJECT_DIR']+'model-prior/prior_npfps_e{}.npy'.format(model_e['prior']),\n",
    "    'vgpc': project_paths['PROJECT_DIR']+'model-pik3ca/vgpc/pik3ca_vgpc_npfps_e{}.npy'.format(model_e['vgpc']),\n",
    "    'segler': project_paths['PROJECT_DIR']+'model-pik3ca/segler/pik3ca_segler_npfps_e{}.npy'.format(model_e['segler']),\n",
    "    'reinv': project_paths['PROJECT_DIR']+'model-pik3ca/reinvent/pik3ca_reinv_npfps_e{}.npy'.format(model_e['reinv']),\n",
    "    'drugex': project_paths['PROJECT_DIR']+'model-pik3ca/drugex/pik3ca_drugex_npfps_e{}.npy'.format(model_e['drugex']),\n",
    "    'logics': project_paths['PROJECT_DIR']+'model-pik3ca/logics/pik3ca_logics_npfps_e{}.npy'.format(model_e['logics'])\n",
    "}\n",
    "paths_fc_vecs = {\n",
    "    'prior': project_paths['PROJECT_DIR']+'model-prior/prior_fcvec_e{}.npy'.format(model_e['prior']),\n",
    "    'vgpc': project_paths['PROJECT_DIR']+'model-pik3ca/vgpc/pik3ca_vgpc_fcvec_e{}.npy'.format(model_e['vgpc']),\n",
    "    'segler': project_paths['PROJECT_DIR']+'model-pik3ca/segler/pik3ca_segler_fcvec_e{}.npy'.format(model_e['segler']),\n",
    "    'reinv': project_paths['PROJECT_DIR']+'model-pik3ca/reinvent/pik3ca_reinv_fcvec_e{}.npy'.format(model_e['reinv']),\n",
    "    'drugex': project_paths['PROJECT_DIR']+'model-pik3ca/drugex/pik3ca_drugex_fcvec_e{}.npy'.format(model_e['drugex']),\n",
    "    'logics': project_paths['PROJECT_DIR']+'model-pik3ca/logics/pik3ca_logics_fcvec_e{}.npy'.format(model_e['logics'])\n",
    "}"
   ]
  },
  {
   "cell_type": "code",
   "execution_count": 8,
   "id": "35459304",
   "metadata": {},
   "outputs": [
    {
     "data": {
      "text/plain": [
       "1583442"
      ]
     },
     "execution_count": 8,
     "metadata": {},
     "output_type": "execute_result"
    }
   ],
   "source": [
    "# pre-training dataset loading\n",
    "with open(project_paths['PRETRAINING_DATA_PATH'], 'r') as f:\n",
    "    pret_smis = [line.strip() for line in f.readlines()]\n",
    "len(pret_smis)"
   ]
  },
  {
   "cell_type": "code",
   "execution_count": 9,
   "id": "f93046c1",
   "metadata": {},
   "outputs": [
    {
     "data": {
      "text/plain": [
       "RandomForestRegressor()"
      ]
     },
     "execution_count": 9,
     "metadata": {},
     "output_type": "execute_result"
    }
   ],
   "source": [
    "# loading predictor \n",
    "pred_path = project_paths['PROJECT_DIR'] + \"model-pik3ca/predictor/pik3ca_rfr_cv{}.pkl\".format(\n",
    "                                                    expset_obj.get_setting(\"pik3ca-pred-best-cv\"))\n",
    "with open(pred_path, 'rb') as f:\n",
    "    predictor = pickle.load(f)\n",
    "predictor"
   ]
  },
  {
   "cell_type": "code",
   "execution_count": 10,
   "id": "0d1d97e7",
   "metadata": {},
   "outputs": [],
   "source": [
    "# loading test set actives (tsa)\n",
    "affinity_data = pd.read_csv(project_paths['PIK3CA_DATA_PATH'])\n",
    "with open(project_paths['PIK3CA_FOLD_JSON'], 'r') as f:\n",
    "    folds = json.load(f)\n",
    "test_ids = folds[str(global_settings.TEST_FOLD_IDX)]\n",
    "test_data = affinity_data.iloc[test_ids]\n",
    "\n",
    "tsa_data = test_data[test_data['affinity']>global_settings.PIK3CA_ACT_THRS]  # active among test set\n",
    "tsa_smis = tsa_data['smiles'].tolist()\n",
    "tsa_rdkfps = chemistry.get_fps_from_smilist(tsa_smis)\n",
    "tsa_fc_vecs = fcd.get_predictions(fc_ref_model, tsa_smis)"
   ]
  },
  {
   "cell_type": "code",
   "execution_count": 11,
   "id": "33552217",
   "metadata": {},
   "outputs": [],
   "source": [
    "# evaluation config objects\n",
    "evcons = {}\n",
    "for mn in model_names:\n",
    "    with open(paths_vc[mn], 'r') as f:\n",
    "        vc_smis = [line.strip() for line in f.readlines()]\n",
    "    npfps = np.load(paths_npfps[mn])\n",
    "    fc_vecs = np.load(paths_fc_vecs[mn])\n",
    "    evc = evaluation.EvalConfig(\n",
    "            ssize=SAMPLE_SIZE, vc_smis=vc_smis, npfps=npfps, simmat_size=INTDIV_SIZE, fc_vecs=fc_vecs,\n",
    "            data_smis=tsa_data, data_rdkfps=tsa_rdkfps, data_fc_vecs=tsa_fc_vecs, ot_repeats=global_settings.OT_CALC_REPEATS\n",
    "    )\n",
    "    evcons[mn] = evc"
   ]
  },
  {
   "cell_type": "code",
   "execution_count": 12,
   "id": "c4c40d2e",
   "metadata": {},
   "outputs": [
    {
     "name": "stdout",
     "output_type": "stream",
     "text": [
      "prior\n",
      "vgpc\n",
      "segler\n",
      "reinv\n",
      "drugex\n",
      "logics\n"
     ]
    }
   ],
   "source": [
    "# evaluate and fillout the performance table\n",
    "for mn in model_names:\n",
    "    print(mn)\n",
    "    va, uni, nov, div = evaluation.eval_standard(evcons[mn], pret_smis)\n",
    "    predact, pwsim, fcdval, otdval = evaluation.eval_optimization(evcons[mn], predictor)\n",
    "    perf_table[mn]['validity'] = va\n",
    "    perf_table[mn]['uniqueness'] = uni\n",
    "    perf_table[mn]['novelty'] = nov\n",
    "    perf_table[mn]['diversity'] = div\n",
    "    perf_table[mn]['PredAct'] = predact\n",
    "    perf_table[mn]['PwSim'] = pwsim\n",
    "    perf_table[mn]['FCD'] = fcdval\n",
    "    perf_table[mn]['OTD'] = otdval"
   ]
  },
  {
   "cell_type": "code",
   "execution_count": 13,
   "id": "7bae9477",
   "metadata": {},
   "outputs": [
    {
     "data": {
      "text/html": [
       "<div>\n",
       "<style scoped>\n",
       "    .dataframe tbody tr th:only-of-type {\n",
       "        vertical-align: middle;\n",
       "    }\n",
       "\n",
       "    .dataframe tbody tr th {\n",
       "        vertical-align: top;\n",
       "    }\n",
       "\n",
       "    .dataframe thead th {\n",
       "        text-align: right;\n",
       "    }\n",
       "</style>\n",
       "<table border=\"1\" class=\"dataframe\">\n",
       "  <thead>\n",
       "    <tr style=\"text-align: right;\">\n",
       "      <th></th>\n",
       "      <th>prior</th>\n",
       "      <th>vgpc</th>\n",
       "      <th>segler</th>\n",
       "      <th>reinv</th>\n",
       "      <th>drugex</th>\n",
       "      <th>logics</th>\n",
       "    </tr>\n",
       "  </thead>\n",
       "  <tbody>\n",
       "    <tr>\n",
       "      <th>validity</th>\n",
       "      <td>0.95365</td>\n",
       "      <td>0.8338</td>\n",
       "      <td>0.97105</td>\n",
       "      <td>0.99815</td>\n",
       "      <td>0.9832</td>\n",
       "      <td>0.9955</td>\n",
       "    </tr>\n",
       "    <tr>\n",
       "      <th>uniqueness</th>\n",
       "      <td>0.999266</td>\n",
       "      <td>0.997841</td>\n",
       "      <td>0.94645</td>\n",
       "      <td>0.655312</td>\n",
       "      <td>0.996135</td>\n",
       "      <td>0.715671</td>\n",
       "    </tr>\n",
       "    <tr>\n",
       "      <th>novelty</th>\n",
       "      <td>0.948318</td>\n",
       "      <td>0.994892</td>\n",
       "      <td>0.99913</td>\n",
       "      <td>0.933726</td>\n",
       "      <td>0.997498</td>\n",
       "      <td>0.994877</td>\n",
       "    </tr>\n",
       "    <tr>\n",
       "      <th>diversity</th>\n",
       "      <td>0.88942</td>\n",
       "      <td>0.824073</td>\n",
       "      <td>0.782522</td>\n",
       "      <td>0.789715</td>\n",
       "      <td>0.802702</td>\n",
       "      <td>0.737681</td>\n",
       "    </tr>\n",
       "    <tr>\n",
       "      <th>PredAct</th>\n",
       "      <td>6.846708</td>\n",
       "      <td>8.049363</td>\n",
       "      <td>8.753931</td>\n",
       "      <td>8.83186</td>\n",
       "      <td>8.390269</td>\n",
       "      <td>9.539011</td>\n",
       "    </tr>\n",
       "    <tr>\n",
       "      <th>PwSim</th>\n",
       "      <td>0.100009</td>\n",
       "      <td>0.111354</td>\n",
       "      <td>0.120689</td>\n",
       "      <td>0.174694</td>\n",
       "      <td>0.11307</td>\n",
       "      <td>0.187271</td>\n",
       "    </tr>\n",
       "    <tr>\n",
       "      <th>FCD</th>\n",
       "      <td>40.912529</td>\n",
       "      <td>43.751357</td>\n",
       "      <td>45.795805</td>\n",
       "      <td>32.597269</td>\n",
       "      <td>44.000946</td>\n",
       "      <td>29.669013</td>\n",
       "    </tr>\n",
       "    <tr>\n",
       "      <th>OTD</th>\n",
       "      <td>6.011624</td>\n",
       "      <td>5.934928</td>\n",
       "      <td>5.754742</td>\n",
       "      <td>4.456088</td>\n",
       "      <td>5.881252</td>\n",
       "      <td>4.273728</td>\n",
       "    </tr>\n",
       "  </tbody>\n",
       "</table>\n",
       "</div>"
      ],
      "text/plain": [
       "                prior       vgpc     segler      reinv     drugex     logics\n",
       "validity      0.95365     0.8338    0.97105    0.99815     0.9832     0.9955\n",
       "uniqueness   0.999266   0.997841    0.94645   0.655312   0.996135   0.715671\n",
       "novelty      0.948318   0.994892    0.99913   0.933726   0.997498   0.994877\n",
       "diversity     0.88942   0.824073   0.782522   0.789715   0.802702   0.737681\n",
       "PredAct      6.846708   8.049363   8.753931    8.83186   8.390269   9.539011\n",
       "PwSim        0.100009   0.111354   0.120689   0.174694    0.11307   0.187271\n",
       "FCD         40.912529  43.751357  45.795805  32.597269  44.000946  29.669013\n",
       "OTD          6.011624   5.934928   5.754742   4.456088   5.881252   4.273728"
      ]
     },
     "execution_count": 13,
     "metadata": {},
     "output_type": "execute_result"
    }
   ],
   "source": [
    "perf_table"
   ]
  },
  {
   "cell_type": "code",
   "execution_count": null,
   "id": "8449d79e",
   "metadata": {},
   "outputs": [],
   "source": []
  },
  {
   "cell_type": "code",
   "execution_count": null,
   "id": "b958ac66",
   "metadata": {},
   "outputs": [],
   "source": []
  }
 ],
 "metadata": {
  "kernelspec": {
   "display_name": "logics",
   "language": "python",
   "name": "logics"
  },
  "language_info": {
   "codemirror_mode": {
    "name": "ipython",
    "version": 3
   },
   "file_extension": ".py",
   "mimetype": "text/x-python",
   "name": "python",
   "nbconvert_exporter": "python",
   "pygments_lexer": "ipython3",
   "version": "3.7.16"
  }
 },
 "nbformat": 4,
 "nbformat_minor": 5
}
