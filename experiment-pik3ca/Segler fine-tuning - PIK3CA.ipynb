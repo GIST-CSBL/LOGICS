{
 "cells": [
  {
   "cell_type": "code",
   "execution_count": null,
   "id": "7b20d217",
   "metadata": {},
   "outputs": [],
   "source": [
    "import sys\n",
    "sys.path.append('..')"
   ]
  },
  {
   "cell_type": "code",
   "execution_count": null,
   "id": "1272f205",
   "metadata": {},
   "outputs": [],
   "source": [
    "from logics_pack import global_settings, chemistry, segler, predictor, reward_functions, analysis, smiles_vocab, smiles_lstm\n",
    "import pandas as pd\n",
    "import numpy as np\n",
    "import json\n",
    "import torch\n",
    "\n",
    "project_paths = global_settings.build_project_paths(project_dir='../')\n",
    "expset_obj = global_settings.ExperimentSettings(project_paths['EXPERIMENT_SETTINGS_JSON'])"
   ]
  },
  {
   "cell_type": "markdown",
   "id": "86182dbc",
   "metadata": {},
   "source": [
    "Perform Segler fine-tuning to build agent generator"
   ]
  },
  {
   "cell_type": "code",
   "execution_count": null,
   "id": "b4762d21",
   "metadata": {},
   "outputs": [],
   "source": [
    "config = global_settings.Object()\n",
    "config.tokens_path = project_paths['SMILES_TOKENS_PATH']\n",
    "config.pretrain_setting_path = project_paths['PRETRAIN_SETTING_JSON']\n",
    "config.pretrained_model_path = project_paths['PROJECT_DIR'] + 'model-prior/prior_e10.ckpt'\n",
    "config.featurizer = predictor.featurizer\n",
    "config.predictor_path = project_paths['PROJECT_DIR'] + \\\n",
    "                            \"model-pik3ca/predictor/pik3ca_rfr_cv%s.pkl\"%expset_obj.get_setting(\"pik3ca-pred-best-cv\")\n",
    "\n",
    "config.score_thrs = global_settings.PIK3CA_ACT_THRS\n",
    "config.max_epoch = 150\n",
    "config.save_period = 3\n",
    "config.save_size = 20000\n",
    "config.save_ckpt_fmt = project_paths['PROJECT_DIR'] + 'model-pik3ca/segler/pik3ca_segler_e%d.ckpt'\n",
    "config.sample_fmt = project_paths['PROJECT_DIR'] + 'model-pik3ca/segler/pik3ca_segler_e%d.txt'\n",
    "config.init_gen_size = 100000\n",
    "config.ssz_per_epoch = 10000\n",
    "config.ft_period = 5\n",
    "config.finetune_lr = 0.0001\n",
    "config.finetune_bs = 128\n",
    "config.sampling_bs = 256\n",
    "config.record_actives_size = 100000\n",
    "config.record_actives_fmt = project_paths['PROJECT_DIR'] + 'model-pik3ca/segler/pik3ca_segler_recacts_e%d.smi'\n",
    "\n",
    "config.device_name = 'cpu'"
   ]
  },
  {
   "cell_type": "code",
   "execution_count": null,
   "id": "6fe7e7de",
   "metadata": {},
   "outputs": [],
   "source": [
    "# perform fine-tuning\n",
    "segler.Segler_training(config)"
   ]
  },
  {
   "cell_type": "markdown",
   "id": "29ac4c6d",
   "metadata": {},
   "source": [
    "Load Segler agent generator and sample some examples"
   ]
  },
  {
   "cell_type": "code",
   "execution_count": null,
   "id": "e5dddf8c",
   "metadata": {},
   "outputs": [],
   "source": [
    "vocab_obj = smiles_vocab.Vocabulary(init_from_file=config.tokens_path)\n",
    "smtk = smiles_vocab.SmilesTokenizer(vocab_obj)\n",
    "\n",
    "with open(config.pretrain_setting_path, 'r') as f:\n",
    "    model_setting = json.load(f)\n",
    "    \n",
    "# load agent model (epoch=150)\n",
    "agent_ckpt = torch.load(config.save_ckpt_fmt%150, map_location='cpu')\n",
    "lstm_agent = smiles_lstm.SmilesLSTMGenerator(vocab_obj, model_setting['emb_size'], model_setting['hidden_units'], device_name='cpu')\n",
    "lstm_agent.lstm.load_state_dict(agent_ckpt['model_state_dict'])"
   ]
  },
  {
   "cell_type": "code",
   "execution_count": null,
   "id": "0a9e6d61",
   "metadata": {
    "scrolled": true
   },
   "outputs": [],
   "source": [
    "# sampling\n",
    "ssplr = analysis.SafeSampler(lstm_agent, batch_size=16)\n",
    "generated_smiles = ssplr.sample_clean(50, maxlen=150)\n",
    "display(generated_smiles)"
   ]
  },
  {
   "cell_type": "code",
   "execution_count": null,
   "id": "4926334f",
   "metadata": {},
   "outputs": [],
   "source": []
  },
  {
   "cell_type": "code",
   "execution_count": null,
   "id": "2f12e893",
   "metadata": {},
   "outputs": [],
   "source": []
  },
  {
   "cell_type": "code",
   "execution_count": null,
   "id": "de909ce3",
   "metadata": {},
   "outputs": [],
   "source": []
  }
 ],
 "metadata": {
  "kernelspec": {
   "display_name": "logics_shep8",
   "language": "python",
   "name": "logics_shep8"
  },
  "language_info": {
   "codemirror_mode": {
    "name": "ipython",
    "version": 3
   },
   "file_extension": ".py",
   "mimetype": "text/x-python",
   "name": "python",
   "nbconvert_exporter": "python",
   "pygments_lexer": "ipython3",
   "version": "3.7.16"
  }
 },
 "nbformat": 4,
 "nbformat_minor": 5
}
