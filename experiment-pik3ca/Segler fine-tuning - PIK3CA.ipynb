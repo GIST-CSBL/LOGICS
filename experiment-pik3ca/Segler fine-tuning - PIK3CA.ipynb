{
 "cells": [
  {
   "cell_type": "code",
   "execution_count": null,
   "id": "7b20d217",
   "metadata": {},
   "outputs": [],
   "source": [
    "import sys\n",
    "sys.path.append('..')"
   ]
  },
  {
   "cell_type": "code",
   "execution_count": null,
   "id": "1272f205",
   "metadata": {},
   "outputs": [],
   "source": [
    "from logics_pack import global_settings, chemistry, segler, predictor, reward_functions, analysis, smiles_vocab, smiles_lstm\n",
    "import pandas as pd\n",
    "import numpy as np\n",
    "import json\n",
    "import torch\n",
    "\n",
    "project_paths = global_settings.build_project_paths(project_dir='../')\n",
    "expset_obj = global_settings.ExperimentSettings(project_paths['EXPERIMENT_SETTINGS_JSON'])"
   ]
  },
  {
   "cell_type": "markdown",
   "id": "86182dbc",
   "metadata": {},
   "source": [
    "Perform Segler fine-tuning to build agent generator"
   ]
  },
  {
   "cell_type": "code",
   "execution_count": null,
   "id": "b4762d21",
   "metadata": {},
   "outputs": [],
   "source": [
    "config = global_settings.Object()\n",
    "config.tokens_path = project_paths['SMILES_TOKENS_PATH']\n",
    "config.pretrain_setting_path = project_paths['PRETRAIN_SETTING_JSON']\n",
    "config.pretrained_model_path = project_paths['PROJECT_DIR'] + 'model-prior/prior_e10.ckpt'\n",
    "config.featurizer = predictor.featurizer\n",
    "config.predictor_path = project_paths['PROJECT_DIR'] + \\\n",
    "                            \"model-pik3ca/predictor/pik3ca_rfr_cv%s.pkl\"%expset_obj.get_setting(\"pik3ca-pred-best-cv\")\n",
    "\n",
    "config.score_thrs = global_settings.PIK3CA_ACT_THRS\n",
    "config.max_epoch = 150\n",
    "config.save_period = 3\n",
    "config.save_size = 20000\n",
    "config.save_ckpt_fmt = project_paths['PROJECT_DIR'] + 'model-pik3ca/segler/pik3ca_segler_e%d.ckpt'\n",
    "config.sample_fmt = project_paths['PROJECT_DIR'] + 'model-pik3ca/segler/pik3ca_segler_e%d.txt'\n",
    "config.init_gen_size = 100000\n",
    "config.ssz_per_epoch = 10000\n",
    "config.ft_period = 5\n",
    "config.finetune_lr = 0.0001\n",
    "config.finetune_bs = 128\n",
    "config.sampling_bs = 256\n",
    "config.record_actives_size = 100000\n",
    "config.record_actives_fmt = project_paths['PROJECT_DIR'] + 'model-pik3ca/segler/pik3ca_segler_recacts_e%d.smi'\n",
    "\n",
    "config.device_name = 'cpu'"
   ]
  },
  {
   "cell_type": "code",
   "execution_count": null,
   "id": "6fe7e7de",
   "metadata": {},
   "outputs": [],
   "source": [
    "# perform fine-tuning\n",
    "segler.Segler_training(config)"
   ]
  },
  {
   "cell_type": "markdown",
   "id": "29ac4c6d",
   "metadata": {},
   "source": [
    "Load Segler agent generator and sample some examples"
   ]
  },
  {
   "cell_type": "code",
   "execution_count": null,
   "id": "e5dddf8c",
   "metadata": {},
   "outputs": [],
   "source": [
    "vocab_obj = smiles_vocab.Vocabulary(init_from_file=config.tokens_path)\n",
    "smtk = smiles_vocab.SmilesTokenizer(vocab_obj)\n",
    "\n",
    "with open(config.pretrain_setting_path, 'r') as f:\n",
    "    model_setting = json.load(f)\n",
    "    \n",
    "# load agent model (epoch=150)\n",
    "agent_ckpt = torch.load(config.save_ckpt_fmt%150, map_location='cpu')\n",
    "lstm_agent = smiles_lstm.SmilesLSTMGenerator(vocab_obj, model_setting['emb_size'], model_setting['hidden_units'], device_name='cpu')\n",
    "lstm_agent.lstm.load_state_dict(agent_ckpt['model_state_dict'])"
   ]
  },
  {
   "cell_type": "code",
   "execution_count": null,
   "id": "0a9e6d61",
   "metadata": {
    "scrolled": true
   },
   "outputs": [],
   "source": [
    "# sampling\n",
    "ssplr = analysis.SafeSampler(lstm_agent, batch_size=16)\n",
    "generated_smiles = ssplr.sample_clean(50, maxlen=150)\n",
    "display(generated_smiles)"
   ]
  },
  {
   "cell_type": "markdown",
   "id": "5f6a4eed",
   "metadata": {},
   "source": [
    "Subsidiary files building for evaluation phase"
   ]
  },
  {
   "cell_type": "code",
   "execution_count": null,
   "id": "16d48219",
   "metadata": {},
   "outputs": [],
   "source": [
    "config.vc_fmt = project_paths['PROJECT_DIR'] + 'model-pik3ca/segler/pik3ca_segler_vc_e%d.smi'  # save valid & canonical smiles\n",
    "config.npfps_fmt = project_paths['PROJECT_DIR'] + 'model-pik3ca/segler/pik3ca_segler_npfps_e%d.npy'  # save fingerprint in npy\n",
    "config.fcvec_fmt = project_paths['PROJECT_DIR'] + 'model-pik3ca/segler/pik3ca_segler_fcvec_e%d.npy'  # save Frechet ChemNet vectors\n",
    "\n",
    "# epochs = list(range(0, config.max_epoch+1, config.save_period))\n",
    "epochs = [150]"
   ]
  },
  {
   "cell_type": "code",
   "execution_count": null,
   "id": "e38c6760",
   "metadata": {
    "scrolled": true
   },
   "outputs": [],
   "source": [
    "import os\n",
    "os.environ['CUDA_VISIBLE_DEVICES'] = '-1'  # use tensorflow cpu\n",
    "\n",
    "import fcd\n",
    "from logics_pack import frechet_chemnet\n",
    "fc_ref_model = fcd.load_ref_model()"
   ]
  },
  {
   "cell_type": "code",
   "execution_count": null,
   "id": "d6087f30",
   "metadata": {},
   "outputs": [],
   "source": [
    "for epo in epochs:\n",
    "    print(epo)\n",
    "    with open(config.sample_fmt%epo, 'r') as f:\n",
    "        gens = [line.strip() for line in f.readlines()]\n",
    "    vcs, invids = chemistry.get_valid_canons(gens)\n",
    "    print(\"- count invalids: \", len(invids))\n",
    "    with open(config.vc_fmt%epo, 'w') as f:\n",
    "        f.writelines([line+'\\n' for line in vcs])\n",
    "    fps = chemistry.get_fps_from_smilist(vcs)\n",
    "    np.save(config.npfps_fmt%epo, chemistry.rdk2npfps(fps))\n",
    "    fcvecs = fcd.get_predictions(fc_ref_model, vcs)  # ChemNet vectors\n",
    "    np.save(config.fcvec_fmt%epo, fcvecs)"
   ]
  },
  {
   "cell_type": "markdown",
   "id": "17afb7b6",
   "metadata": {},
   "source": [
    "Evaluate FCD and OTD on validation set, and pick the best epoch"
   ]
  },
  {
   "cell_type": "code",
   "execution_count": null,
   "id": "2f12e893",
   "metadata": {},
   "outputs": [],
   "source": [
    "# loading validation dataset\n",
    "with open(project_paths['PIK3CA_FOLD_JSON'], 'r') as f:\n",
    "    pik3_folds = json.load(f)\n",
    "data_npfps = np.load(project_paths['PIK3CA_DATA_FP'])\n",
    "data_fcvecs = np.load(project_paths['PIK3CA_DATA_FCVEC'])\n",
    "\n",
    "val_fold_id = expset_obj.get_setting('pik3ca-pred-best-cv')\n",
    "val_npfps = data_npfps[pik3_folds[val_fold_id]]\n",
    "val_rdkfps = chemistry.np2rdkfps(val_npfps)\n",
    "val_fcvecs = data_fcvecs[pik3_folds[val_fold_id]]\n",
    "\n",
    "dsize = len(val_rdkfps)  # demand size for OT\n",
    "ssize = dsize*global_settings.OT_CALC_REPEATS  # supply size for repeated OT   "
   ]
  },
  {
   "cell_type": "code",
   "execution_count": null,
   "id": "de909ce3",
   "metadata": {},
   "outputs": [],
   "source": [
    "val_fcd_list = []\n",
    "val_otd_list = []\n",
    "for epo in epochs:\n",
    "    print(epo)\n",
    "    # load fc vectors of generation\n",
    "    gen_fcvecs = np.load(config.fcvec_fmt%epo)\n",
    "    fcdval = frechet_chemnet.fcd_calculation(val_fcvecs, gen_fcvecs)\n",
    "    val_fcd_list.append(fcdval)\n",
    "    \n",
    "    gen_npfps = np.load(config.npfps_fmt%epo)[:ssize]  # only need this amount\n",
    "    gen_rdkfps = chemistry.np2rdkfps(gen_npfps)\n",
    "    simmat = analysis.calculate_simmat(gen_rdkfps, val_rdkfps)  # row:gen, col:data\n",
    "    distmat = analysis.transport_distmat(analysis.tansim_to_dist, simmat, global_settings.OT_CALC_REPEATS)\n",
    "    _, _, motds = analysis.repeated_optimal_transport(distmat, repeat=global_settings.OT_CALC_REPEATS)\n",
    "    val_otd_list.append(np.mean(motds))"
   ]
  },
  {
   "cell_type": "code",
   "execution_count": null,
   "id": "ee0b8104",
   "metadata": {},
   "outputs": [],
   "source": [
    "# validation FCDxOTD\n",
    "val_FCDxOTD = np.array(val_fcd_list)*np.array(val_otd_list)\n",
    "# find the best epoch\n",
    "best_epoch = epochs[np.argmin(val_FCDxOTD)]\n",
    "# register the best epoch\n",
    "expset_obj.update_setting('pik3ca-segler-best-epoch', best_epoch)"
   ]
  },
  {
   "cell_type": "code",
   "execution_count": null,
   "id": "42b64ad3",
   "metadata": {},
   "outputs": [],
   "source": [
    "print(expset_obj.get_setting('pik3ca-segler-best-epoch'))"
   ]
  },
  {
   "cell_type": "code",
   "execution_count": null,
   "id": "24405dc9",
   "metadata": {},
   "outputs": [],
   "source": []
  },
  {
   "cell_type": "code",
   "execution_count": null,
   "id": "f3d8a412",
   "metadata": {},
   "outputs": [],
   "source": []
  }
 ],
 "metadata": {
  "kernelspec": {
   "display_name": "logics",
   "language": "python",
   "name": "logics"
  },
  "language_info": {
   "codemirror_mode": {
    "name": "ipython",
    "version": 3
   },
   "file_extension": ".py",
   "mimetype": "text/x-python",
   "name": "python",
   "nbconvert_exporter": "python",
   "pygments_lexer": "ipython3",
   "version": "3.7.16"
  }
 },
 "nbformat": 4,
 "nbformat_minor": 5
}
