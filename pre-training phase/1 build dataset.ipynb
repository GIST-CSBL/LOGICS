{
 "cells": [
  {
   "cell_type": "code",
   "execution_count": 1,
   "id": "5211ff2f",
   "metadata": {},
   "outputs": [],
   "source": [
    "import sys\n",
    "sys.path.append('..')"
   ]
  },
  {
   "cell_type": "code",
   "execution_count": 2,
   "id": "60657138",
   "metadata": {},
   "outputs": [],
   "source": [
    "from logics_pack import global_settings, dataset, smiles_vocab, chemistry\n",
    "import pandas as pd\n",
    "import numpy as np\n",
    "import json\n",
    "\n",
    "project_paths = global_settings.build_project_paths(project_dir='../')"
   ]
  },
  {
   "cell_type": "code",
   "execution_count": 3,
   "id": "e33e2ea6",
   "metadata": {},
   "outputs": [],
   "source": [
    "vocab_obj = smiles_vocab.Vocabulary(init_from_file=project_paths[\"SMILES_TOKENS_PATH\"])\n",
    "smtk = smiles_vocab.SmilesTokenizer(vocab_obj)"
   ]
  },
  {
   "cell_type": "markdown",
   "id": "719b0736",
   "metadata": {},
   "source": [
    "Process ChEMBL dataset"
   ]
  },
  {
   "cell_type": "code",
   "execution_count": 4,
   "id": "222adcd0",
   "metadata": {
    "scrolled": true
   },
   "outputs": [],
   "source": [
    "# chembl dataset processing\n",
    "chembl_new = dataset.process_chembl(project_paths[\"CHEMBL_RAW_PATH\"], smtk)\n",
    "# write the processed chembl data\n",
    "with open(project_paths[\"CHEMBL_DATA_PATH\"], 'w') as f:\n",
    "    f.writelines([line+'\\n' for line in chembl_new])"
   ]
  },
  {
   "cell_type": "markdown",
   "id": "cdb4e5b0",
   "metadata": {},
   "source": [
    "Process KOR dataset"
   ]
  },
  {
   "cell_type": "code",
   "execution_count": 4,
   "id": "7a78de3b",
   "metadata": {},
   "outputs": [],
   "source": [
    "# KOR dataset processing\n",
    "smiles, labels = dataset.process_DiverseDRL_KOR(project_paths[\"KOR_RAW_PATH\"])\n",
    "# The labels are pCHEMBL values\n",
    "\n",
    "canons = [chemistry.convert_to_canon(smi) for smi in smiles] # canonicalized smiles\n",
    "if None in canons:\n",
    "    print(\"There are invalid SMILES in the raw KOR dataset!\")"
   ]
  },
  {
   "cell_type": "code",
   "execution_count": 5,
   "id": "338d6c55",
   "metadata": {},
   "outputs": [
    {
     "name": "stdout",
     "output_type": "stream",
     "text": [
      "following indices of records are dropped due to undefined tokens:\n",
      "[515, 3906, 4319]\n"
     ]
    }
   ],
   "source": [
    "kor_assay_obj = dataset.PubChemProcessLOGICS()\n",
    "kor_assay_obj.raw = pd.DataFrame(canons, columns=['smiles'])\n",
    "kor_assay_obj.raw['pCHEMBL'] = labels\n",
    "kor_assay_obj.filtered = kor_assay_obj.get_raw().copy()\n",
    "kor_assay_obj.filter_del_disconnected_smiles()\n",
    "kor_assay_obj.filter_del_undefined_tokens(smtk)  # warning message if undefined token detected\n",
    "kor_assay_obj.filter_append_median(median_of='pCHEMBL', groupby='smiles')\n",
    "kor_data = kor_assay_obj.filtered[['smiles', 'med_pCHEMBL']].drop_duplicates().reset_index(drop=True)\n",
    "kor_data.rename(columns={'med_pCHEMBL':'affinity'}, inplace=True)\n",
    "# write the processed KOR data\n",
    "kor_data.to_csv(project_paths[\"KOR_DATA_PATH\"], index=False)"
   ]
  },
  {
   "cell_type": "code",
   "execution_count": 6,
   "id": "50fb084e",
   "metadata": {},
   "outputs": [],
   "source": [
    "# fold splits for predictor training\n",
    "kor_fold_dict = dataset.fold_splits(len(kor_data), global_settings.NUM_DATA_FOLDS)\n",
    "with open(project_paths[\"KOR_FOLD_JSON\"], 'w') as f:\n",
    "    json.dump(kor_fold_dict, f)"
   ]
  },
  {
   "cell_type": "code",
   "execution_count": 8,
   "id": "8f5c8437",
   "metadata": {},
   "outputs": [],
   "source": [
    "# save morgan fingerprint features\n",
    "rdk_fps = chemistry.get_fps_from_smilist(kor_data[\"smiles\"].tolist())\n",
    "np_fps = chemistry.rdk2npfps(rdk_fps)\n",
    "np.save(project_paths[\"KOR_DATA_FP\"], np_fps)"
   ]
  },
  {
   "cell_type": "code",
   "execution_count": null,
   "id": "7fbcd792",
   "metadata": {},
   "outputs": [],
   "source": []
  },
  {
   "cell_type": "markdown",
   "id": "5485f81b",
   "metadata": {},
   "source": [
    "Process PIK3CA dataset"
   ]
  },
  {
   "cell_type": "code",
   "execution_count": 9,
   "id": "27903086",
   "metadata": {},
   "outputs": [
    {
     "name": "stdout",
     "output_type": "stream",
     "text": [
      "following indices of records are dropped due to undefined tokens:\n",
      "[]\n"
     ]
    }
   ],
   "source": [
    "# PIK3CA dataset processing\n",
    "pik3_assay_obj = dataset.PubChemProcessLOGICS()\n",
    "pik3_assay_obj.load_json_response(project_paths[\"PIK3CA_RAW_PATH\"])\n",
    "# Ki activity only\n",
    "pik3_assay_obj.filter_set_default_columns()\n",
    "pik3_assay_obj.filter_set_exactly('acname', 'Ki')\n",
    "pik3_ki_subset = pik3_assay_obj.filtered.copy()\n",
    "\n",
    "# Kd activity only\n",
    "pik3_assay_obj.reset_filter()\n",
    "pik3_assay_obj.filter_set_default_columns()\n",
    "pik3_assay_obj.filter_set_exactly('acname', 'Kd')\n",
    "pik3_kd_subset = pik3_assay_obj.filtered.copy()\n",
    "\n",
    "# Kd + Ki -> Kx\n",
    "pik3_assay_obj.filtered = pik3_ki_subset.append(pik3_kd_subset, ignore_index=True)\n",
    "pik3_assay_obj.filter_set_exactly('acqualifier', '=')\n",
    "pik3_assay_obj.filter_del_variant()\n",
    "pik3_assay_obj.filter_append_smiles_download()\n",
    "pik3_assay_obj.filter_del_disconnected_smiles()\n",
    "pik3_assay_obj.filter_del_undefined_tokens(smtk)\n",
    "\n",
    "# transform the acvalue to get pKx\n",
    "pik3_assay_obj.filtered['pKx'] = -np.log10(pik3_assay_obj.filtered['acvalue']*(10**-6)) # pKx\n",
    "\n",
    "pik3_assay_obj.filter_append_median(median_of='pKx', groupby='smiles')\n",
    "pik3ca_data = pik3_assay_obj.filtered[['smiles', 'med_pKx']].drop_duplicates().reset_index(drop=True)\n",
    "pik3ca_data.rename(columns={'med_pKx':'affinity'}, inplace=True)\n",
    "\n",
    "# write the processed PIK3CA data\n",
    "pik3ca_data.to_csv(project_paths[\"PIK3CA_DATA_PATH\"], index=False)"
   ]
  },
  {
   "cell_type": "code",
   "execution_count": 10,
   "id": "a126f8c1",
   "metadata": {},
   "outputs": [],
   "source": [
    "# fold splits for predictor training\n",
    "pik3ca_fold_dict = dataset.fold_splits(len(pik3ca_data), global_settings.NUM_DATA_FOLDS)\n",
    "with open(project_paths[\"PIK3CA_FOLD_JSON\"], 'w') as f:\n",
    "    json.dump(pik3ca_fold_dict, f)"
   ]
  },
  {
   "cell_type": "code",
   "execution_count": 10,
   "id": "2ce635a1",
   "metadata": {},
   "outputs": [],
   "source": [
    "# save morgan fingerprint features\n",
    "rdk_fps = chemistry.get_fps_from_smilist(pik3ca_data[\"smiles\"].tolist())\n",
    "np_fps = chemistry.rdk2npfps(rdk_fps)\n",
    "np.save(project_paths[\"PIK3CA_DATA_FP\"], np_fps)"
   ]
  },
  {
   "cell_type": "code",
   "execution_count": null,
   "id": "6265a7d9",
   "metadata": {},
   "outputs": [],
   "source": []
  }
 ],
 "metadata": {
  "kernelspec": {
   "display_name": "logics_shep8",
   "language": "python",
   "name": "logics_shep8"
  },
  "language_info": {
   "codemirror_mode": {
    "name": "ipython",
    "version": 3
   },
   "file_extension": ".py",
   "mimetype": "text/x-python",
   "name": "python",
   "nbconvert_exporter": "python",
   "pygments_lexer": "ipython3",
   "version": "3.7.16"
  }
 },
 "nbformat": 4,
 "nbformat_minor": 5
}
