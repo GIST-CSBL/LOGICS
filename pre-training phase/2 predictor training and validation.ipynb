{
 "cells": [
  {
   "cell_type": "code",
   "execution_count": 1,
   "id": "d63a253f",
   "metadata": {},
   "outputs": [],
   "source": [
    "import sys\n",
    "sys.path.append('..')"
   ]
  },
  {
   "cell_type": "code",
   "execution_count": 11,
   "id": "0c4e138b",
   "metadata": {},
   "outputs": [],
   "source": [
    "from logics_pack import global_settings, chemistry, predictor\n",
    "import pandas as pd\n",
    "import numpy as np\n",
    "import json\n",
    "import pickle\n",
    "\n",
    "project_paths = global_settings.build_project_paths(project_dir='../')\n",
    "expset_obj = global_settings.ExperimentSettings(project_paths['EXPERIMENT_SETTINGS_JSON'])"
   ]
  },
  {
   "cell_type": "markdown",
   "id": "4bf3b166",
   "metadata": {},
   "source": [
    "Training KOR activity predictor (Random Forest Regressor)"
   ]
  },
  {
   "cell_type": "code",
   "execution_count": 3,
   "id": "6732bbd0",
   "metadata": {},
   "outputs": [],
   "source": [
    "conf_k = global_settings.Object()\n",
    "conf_k.affinity_path = project_paths['KOR_DATA_PATH']\n",
    "conf_k.fold_path = project_paths['KOR_FOLD_JSON']\n",
    "conf_k.fingerprint_path = project_paths['KOR_DATA_FP']\n",
    "conf_k.test_fold_id = str(global_settings.TEST_FOLD_IDX)    # string type is required for train_predictor()\n",
    "\n",
    "conf_k.predictor_model_fmt = project_paths['PROJECT_DIR'] + \"model-kor/predictor/kor_rfr_cv%d.pkl\"\n",
    "conf_k.result_table_path = project_paths['PROJECT_DIR'] + \"model-kor/predictor/kor_rfr_cv_results.csv\""
   ]
  },
  {
   "cell_type": "code",
   "execution_count": 4,
   "id": "97c9835f",
   "metadata": {},
   "outputs": [
    {
     "name": "stdout",
     "output_type": "stream",
     "text": [
      "['0', '1', '2', '3', '4']\n"
     ]
    }
   ],
   "source": [
    "# RFR regressor training\n",
    "rfr_cvs, vmse, vr2, cv_fold_keys = predictor.train_predictor(conf_k)"
   ]
  },
  {
   "cell_type": "code",
   "execution_count": 5,
   "id": "9dc57331",
   "metadata": {},
   "outputs": [],
   "source": [
    "# save the result\n",
    "cv_folds = [int(key) for key in cv_fold_keys]\n",
    "pred_result = pd.DataFrame(cv_folds, columns=['cv_fold'])\n",
    "pred_result['vmse'] = vmse\n",
    "pred_result['vr2'] = vr2\n",
    "pred_result.to_csv(conf_k.result_table_path, index=False)"
   ]
  },
  {
   "cell_type": "code",
   "execution_count": 7,
   "id": "960a31f2",
   "metadata": {},
   "outputs": [
    {
     "name": "stdout",
     "output_type": "stream",
     "text": [
      "best CV fold of KOR predictor:  3\n"
     ]
    }
   ],
   "source": [
    "# find the best performing cv fold by validation R2\n",
    "best_cv_idx = pred_result['vr2'].idxmax()\n",
    "best_cv = pred_result['cv_fold'].iloc[best_cv_idx]\n",
    "# add best cv info to the experiment setting json file, and overwrite it\n",
    "expset_obj.update_setting(\"kor-pred-best-cv\", best_cv)\n",
    "print(\"best CV fold of KOR predictor: \", best_cv)"
   ]
  },
  {
   "cell_type": "code",
   "execution_count": 13,
   "id": "27028a07",
   "metadata": {},
   "outputs": [],
   "source": [
    "# save the models\n",
    "for i, cv_idx in enumerate(cv_folds):\n",
    "    with open(conf_k.predictor_model_fmt%cv_idx, 'wb') as f:\n",
    "        pickle.dump(rfr_cvs[i], f)"
   ]
  },
  {
   "cell_type": "markdown",
   "id": "e71b2870",
   "metadata": {},
   "source": [
    "Training PIK3CA activity predictor (Random Forest Regressor)"
   ]
  },
  {
   "cell_type": "code",
   "execution_count": 18,
   "id": "0256e4fc",
   "metadata": {},
   "outputs": [],
   "source": [
    "conf_p = global_settings.Object()\n",
    "conf_p.affinity_path = project_paths['PIK3CA_DATA_PATH']\n",
    "conf_p.fold_path = project_paths['PIK3CA_FOLD_JSON']\n",
    "conf_p.fingerprint_path = project_paths['PIK3CA_DATA_FP']\n",
    "conf_p.test_fold_id = str(global_settings.TEST_FOLD_IDX)    # string type is required for train_predictor()\n",
    "\n",
    "conf_p.predictor_model_fmt = project_paths['PROJECT_DIR'] + \"model-pik3ca/predictor/pik3ca_rfr_cv%d.pkl\"\n",
    "conf_p.result_table_path = project_paths['PROJECT_DIR'] + \"model-pik3ca/predictor/pik3ca_rfr_cv_results.csv\""
   ]
  },
  {
   "cell_type": "code",
   "execution_count": 19,
   "id": "a9b5a925",
   "metadata": {},
   "outputs": [
    {
     "name": "stdout",
     "output_type": "stream",
     "text": [
      "['0', '1', '2', '3', '4']\n"
     ]
    }
   ],
   "source": [
    "# RFR regressor training\n",
    "rfr_cvs, vmse, vr2, cv_fold_keys = predictor.train_predictor(conf_p)"
   ]
  },
  {
   "cell_type": "code",
   "execution_count": 20,
   "id": "e0af6b78",
   "metadata": {},
   "outputs": [],
   "source": [
    "# save the result\n",
    "cv_folds = [int(key) for key in cv_fold_keys]\n",
    "pred_result = pd.DataFrame(cv_folds, columns=['cv_fold'])\n",
    "pred_result['vmse'] = vmse\n",
    "pred_result['vr2'] = vr2\n",
    "pred_result.to_csv(conf_p.result_table_path, index=False)"
   ]
  },
  {
   "cell_type": "code",
   "execution_count": 21,
   "id": "4cbe3c8a",
   "metadata": {},
   "outputs": [
    {
     "name": "stdout",
     "output_type": "stream",
     "text": [
      "best CV fold of PIK3CA predictor:  2\n"
     ]
    }
   ],
   "source": [
    "# find the best performing cv fold by validation R2\n",
    "best_cv_idx = pred_result['vr2'].idxmax()\n",
    "best_cv = pred_result['cv_fold'].iloc[best_cv_idx]\n",
    "# add best cv info to the experiment setting json file, and overwrite it\n",
    "expset_obj.update_setting(\"pik3ca-pred-best-cv\", best_cv)\n",
    "print(\"best CV fold of PIK3CA predictor: \", best_cv)"
   ]
  },
  {
   "cell_type": "code",
   "execution_count": 22,
   "id": "3f407dee",
   "metadata": {},
   "outputs": [],
   "source": [
    "# save the models\n",
    "for i, cv_idx in enumerate(cv_folds):\n",
    "    with open(conf_p.predictor_model_fmt%cv_idx, 'wb') as f:\n",
    "        pickle.dump(rfr_cvs[i], f)"
   ]
  },
  {
   "cell_type": "code",
   "execution_count": null,
   "id": "ba16840f",
   "metadata": {},
   "outputs": [],
   "source": []
  }
 ],
 "metadata": {
  "kernelspec": {
   "display_name": "logics_shep8",
   "language": "python",
   "name": "logics_shep8"
  },
  "language_info": {
   "codemirror_mode": {
    "name": "ipython",
    "version": 3
   },
   "file_extension": ".py",
   "mimetype": "text/x-python",
   "name": "python",
   "nbconvert_exporter": "python",
   "pygments_lexer": "ipython3",
   "version": "3.7.16"
  }
 },
 "nbformat": 4,
 "nbformat_minor": 5
}
