{
 "cells": [
  {
   "cell_type": "code",
   "execution_count": 1,
   "id": "b7c335c7",
   "metadata": {},
   "outputs": [],
   "source": [
    "import sys\n",
    "sys.path.append('..')"
   ]
  },
  {
   "cell_type": "code",
   "execution_count": 11,
   "id": "f2c043f8",
   "metadata": {},
   "outputs": [],
   "source": [
    "from logics_pack import frechet_chemnet, global_settings, chemistry\n",
    "import fcd\n",
    "import pandas as pd\n",
    "import numpy as np\n",
    "import os\n",
    "\n",
    "project_paths = global_settings.build_project_paths(project_dir='../')"
   ]
  },
  {
   "cell_type": "code",
   "execution_count": 3,
   "id": "100836f3",
   "metadata": {},
   "outputs": [],
   "source": [
    "## run this cell in case CuDNN library error occurs \n",
    "os.environ['CUDA_VISIBLE_DEVICES'] = '-1'"
   ]
  },
  {
   "cell_type": "code",
   "execution_count": 4,
   "id": "9fac041e",
   "metadata": {
    "scrolled": true
   },
   "outputs": [
    {
     "name": "stdout",
     "output_type": "stream",
     "text": [
      "WARNING:tensorflow:From /home/bsbae402/anaconda3/envs/logics/lib/python3.7/site-packages/tensorflow_core/python/ops/resource_variable_ops.py:1630: calling BaseResourceVariable.__init__ (from tensorflow.python.ops.resource_variable_ops) with constraint is deprecated and will be removed in a future version.\n",
      "Instructions for updating:\n",
      "If using Keras pass *_constraint arguments to layers.\n",
      "WARNING:tensorflow:From /home/bsbae402/anaconda3/envs/logics/lib/python3.7/site-packages/keras/backend/tensorflow_backend.py:3313: where (from tensorflow.python.ops.array_ops) is deprecated and will be removed in a future version.\n",
      "Instructions for updating:\n",
      "Use tf.where in 2.0, which has the same broadcast rule as np.where\n"
     ]
    },
    {
     "name": "stderr",
     "output_type": "stream",
     "text": [
      "2023-03-21 14:29:29.760483: I tensorflow/stream_executor/platform/default/dso_loader.cc:44] Successfully opened dynamic library libcuda.so.1\n",
      "2023-03-21 14:29:29.792200: E tensorflow/stream_executor/cuda/cuda_driver.cc:318] failed call to cuInit: CUDA_ERROR_NO_DEVICE: no CUDA-capable device is detected\n",
      "2023-03-21 14:29:29.792231: I tensorflow/stream_executor/cuda/cuda_diagnostics.cc:169] retrieving CUDA diagnostic information for host: shepherd5\n",
      "2023-03-21 14:29:29.792238: I tensorflow/stream_executor/cuda/cuda_diagnostics.cc:176] hostname: shepherd5\n",
      "2023-03-21 14:29:29.792308: I tensorflow/stream_executor/cuda/cuda_diagnostics.cc:200] libcuda reported version is: 465.19.1\n",
      "2023-03-21 14:29:29.792339: I tensorflow/stream_executor/cuda/cuda_diagnostics.cc:204] kernel reported version is: 465.19.1\n",
      "2023-03-21 14:29:29.792345: I tensorflow/stream_executor/cuda/cuda_diagnostics.cc:310] kernel version seems to match DSO: 465.19.1\n",
      "2023-03-21 14:29:29.793665: I tensorflow/core/platform/cpu_feature_guard.cc:142] Your CPU supports instructions that this TensorFlow binary was not compiled to use: AVX2 FMA\n",
      "2023-03-21 14:29:29.810231: I tensorflow/core/platform/profile_utils/cpu_utils.cc:94] CPU Frequency: 2300040000 Hz\n",
      "2023-03-21 14:29:29.813709: I tensorflow/compiler/xla/service/service.cc:168] XLA service 0x7209c30 initialized for platform Host (this does not guarantee that XLA will be used). Devices:\n",
      "2023-03-21 14:29:29.813730: I tensorflow/compiler/xla/service/service.cc:176]   StreamExecutor device (0): Host, Default Version\n"
     ]
    },
    {
     "name": "stdout",
     "output_type": "stream",
     "text": [
      "WARNING:tensorflow:From /home/bsbae402/anaconda3/envs/logics/lib/python3.7/site-packages/keras/backend/tensorflow_backend.py:422: The name tf.global_variables is deprecated. Please use tf.compat.v1.global_variables instead.\n",
      "\n"
     ]
    }
   ],
   "source": [
    "fc_ref_model = fcd.load_ref_model()"
   ]
  },
  {
   "cell_type": "markdown",
   "id": "6f5752ca",
   "metadata": {},
   "source": [
    "Calculating Frechet ChemNet vector matrix for KOR assay data, and save it in npy file"
   ]
  },
  {
   "cell_type": "code",
   "execution_count": 5,
   "id": "5b2d39e6",
   "metadata": {
    "scrolled": true
   },
   "outputs": [
    {
     "name": "stdout",
     "output_type": "stream",
     "text": [
      "3881 3881\n"
     ]
    }
   ],
   "source": [
    "kor_aff = pd.read_csv(project_paths['KOR_DATA_PATH'])\n",
    "kor_smis = kor_aff['smiles'].tolist()\n",
    "fc_vecs = fcd.get_predictions(fc_ref_model, kor_smis)\n",
    "print(len(kor_smis), len(fc_vecs))"
   ]
  },
  {
   "cell_type": "code",
   "execution_count": 6,
   "id": "630964ee",
   "metadata": {},
   "outputs": [],
   "source": [
    "np.save(project_paths['KOR_DATA_FCVEC'], fc_vecs)"
   ]
  },
  {
   "cell_type": "markdown",
   "id": "f111fa24",
   "metadata": {},
   "source": [
    "Calculating Frechet ChemNet vector matrix for PIK3CA assay data, and save it in npy file"
   ]
  },
  {
   "cell_type": "code",
   "execution_count": 7,
   "id": "73a13388",
   "metadata": {},
   "outputs": [
    {
     "name": "stdout",
     "output_type": "stream",
     "text": [
      "1462 1462\n"
     ]
    }
   ],
   "source": [
    "pik3_aff = pd.read_csv(project_paths['PIK3CA_DATA_PATH'])\n",
    "pik3_smis = pik3_aff['smiles'].tolist()\n",
    "fc_vecs = fcd.get_predictions(fc_ref_model, pik3_smis)\n",
    "print(len(pik3_smis), len(fc_vecs))"
   ]
  },
  {
   "cell_type": "code",
   "execution_count": 8,
   "id": "0d2ee22f",
   "metadata": {},
   "outputs": [],
   "source": [
    "np.save(project_paths['PIK3CA_DATA_FCVEC'], fc_vecs)"
   ]
  },
  {
   "cell_type": "code",
   "execution_count": null,
   "id": "0207d815",
   "metadata": {},
   "outputs": [],
   "source": []
  }
 ],
 "metadata": {
  "kernelspec": {
   "display_name": "logics",
   "language": "python",
   "name": "logics"
  },
  "language_info": {
   "codemirror_mode": {
    "name": "ipython",
    "version": 3
   },
   "file_extension": ".py",
   "mimetype": "text/x-python",
   "name": "python",
   "nbconvert_exporter": "python",
   "pygments_lexer": "ipython3",
   "version": "3.7.16"
  }
 },
 "nbformat": 4,
 "nbformat_minor": 5
}
