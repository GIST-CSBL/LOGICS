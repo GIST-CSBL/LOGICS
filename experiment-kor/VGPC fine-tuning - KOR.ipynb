{
 "cells": [
  {
   "cell_type": "code",
   "execution_count": 1,
   "id": "7d09d7a1",
   "metadata": {},
   "outputs": [],
   "source": [
    "import sys\n",
    "sys.path.append('..')"
   ]
  },
  {
   "cell_type": "code",
   "execution_count": 2,
   "id": "7b42e9fd",
   "metadata": {},
   "outputs": [],
   "source": [
    "from logics_pack import global_settings, chemistry, generator, predictor, analysis, smiles_vocab, smiles_lstm\n",
    "import pandas as pd\n",
    "import numpy as np\n",
    "import json\n",
    "import torch\n",
    "\n",
    "project_paths = global_settings.build_project_paths(project_dir='../')\n",
    "expset_obj = global_settings.ExperimentSettings(project_paths['EXPERIMENT_SETTINGS_JSON'])"
   ]
  },
  {
   "cell_type": "markdown",
   "id": "297a8dea",
   "metadata": {},
   "source": [
    "Perform VGPC fine-tuning to build agent generator"
   ]
  },
  {
   "cell_type": "code",
   "execution_count": 3,
   "id": "38fc3ea9",
   "metadata": {},
   "outputs": [],
   "source": [
    "config = global_settings.Object()\n",
    "config.tokens_path = project_paths['SMILES_TOKENS_PATH']\n",
    "config.pretrain_setting_path = project_paths['PRETRAIN_SETTING_JSON']\n",
    "config.pretrained_model_path = project_paths['PROJECT_DIR'] + 'model-prior/prior_e10.ckpt'\n",
    "config.featurizer = predictor.featurizer\n",
    "config.predictor_path = project_paths['PROJECT_DIR'] + \"model-kor/predictor/kor_rfr_cv%s.pkl\"%expset_obj.get_setting(\"kor-pred-best-cv\")\n",
    "\n",
    "config.max_epoch = 50\n",
    "config.save_period = 1\n",
    "config.save_ckpt_fmt = project_paths['PROJECT_DIR'] + 'model-kor/vgpc/kor_vgpc_e%d.ckpt'\n",
    "config.sample_fmt = project_paths['PROJECT_DIR'] + 'model-kor/vgpc/kor_vgpc_e%d.txt'\n",
    "config.save_size = 20000\n",
    "config.gen_size = config.save_size\n",
    "config.high_score_size = int(config.gen_size/5)\n",
    "config.finetune_lr = 0.00005\n",
    "config.finetune_bs = 128\n",
    "config.sampling_bs = 256\n",
    "\n",
    "config.device_name = 'cpu'"
   ]
  },
  {
   "cell_type": "code",
   "execution_count": null,
   "id": "477b6397",
   "metadata": {},
   "outputs": [],
   "source": [
    "# perform fine-tuning\n",
    "generator.VanillaGPC_training(config)"
   ]
  },
  {
   "cell_type": "markdown",
   "id": "321e2eb6",
   "metadata": {},
   "source": [
    "Load VGPC agent generator and sample some examples"
   ]
  },
  {
   "cell_type": "code",
   "execution_count": 4,
   "id": "a27ead89",
   "metadata": {},
   "outputs": [
    {
     "data": {
      "text/plain": [
       "<All keys matched successfully>"
      ]
     },
     "execution_count": 4,
     "metadata": {},
     "output_type": "execute_result"
    }
   ],
   "source": [
    "vocab_obj = smiles_vocab.Vocabulary(init_from_file=config.tokens_path)\n",
    "smtk = smiles_vocab.SmilesTokenizer(vocab_obj)\n",
    "\n",
    "with open(config.pretrain_setting_path, 'r') as f:\n",
    "    model_setting = json.load(f)\n",
    "    \n",
    "# load agent model (epoch=20)\n",
    "agent_ckpt = torch.load(config.save_ckpt_fmt%20, map_location='cpu')\n",
    "lstm_agent = smiles_lstm.SmilesLSTMGenerator(vocab_obj, model_setting['emb_size'], model_setting['hidden_units'], device_name='cpu')\n",
    "lstm_agent.lstm.load_state_dict(agent_ckpt['model_state_dict'])"
   ]
  },
  {
   "cell_type": "code",
   "execution_count": 5,
   "id": "e7fc5b90",
   "metadata": {
    "scrolled": true
   },
   "outputs": [
    {
     "data": {
      "text/plain": [
       "['CC(C)CC(NC(=O)C(CC(C)C)NC(=O)C(CCCc1ccccc1NC(=O)C(N)CCCNC(=N)N)NC(=O)c1ccnc(-c2ccc(-c3ccc(C(=N)NC)cc3)cc2)c1)C(N)=O',\n",
       " 'CCCNC(=O)CCC(CC(CCC(N)C(=O)O)C(=O)NC(CCCCN)C(=O)NC(=O)C(CC(C)C)NC(=O)C(N)CCCNC(N)=O)C(=O)NC(C)C(N)=O',\n",
       " 'CC(C)CC(NC(=O)C(Cc1ccccc1)OC(=O)N(CC(C)(C)C)C(C)(Cc1ccccc1)C(N)=O)C(CCCCN)NC(=O)C(C)(C)C(N)CC(=O)NC(C(=O)O)C(C)C',\n",
       " 'CS(=O)(=O)NC1CCCC(NCC(=O)NC(CCCNC(=N)N)C(N)=O)C(C(N)=O)C(CC(C)(C)C)C1',\n",
       " 'CC(CN1CC2CN(C(=O)Cc3cnccs3)CCC2C1)NC(N)=O',\n",
       " 'CC(C)CC(NC(=O)C(=O)NCc1ccccc1)C(=O)NC(CCCC(N)CS)C(=O)N1CCCCC1',\n",
       " 'CC(C)CC(NC(=O)C(CCCCN)NC(=O)C(N)CC(=O)NCCCCCN)C(=O)NC(CC(N)=O)C(N)=O',\n",
       " 'CC(C)CC(NC(=O)C(CC(C)C)NC(=O)C(CCCN=C(N)N)NC(=O)C(N)CCCCN)C(=O)NC(CC(C)C)C(=O)NC(Cc1ccccc1)C(N)=O',\n",
       " 'CC(C)CC(NC(=O)C(CCCNC(=N)N)NC(=O)C(N)Cc1ccc(O)cc1CC1C(=O)NC(=O)C(C)NC(=O)C(O)C(C)N1C(=O)OCc2ccccc2)C1NC(C)(C)CC(C)C',\n",
       " 'CC(C)CC(NC(=O)C(CCCNC(=N)N)NC(=O)OC(C)(C)C)C(=O)NC(C(=O)NC(CCCC(N)C(=O)O)C(=O)NC(CC(C)C)C(=O)NN)C(=O)NC(Cc1ccc(O)cc1)C(N)=O',\n",
       " 'CC(C)C(C(N)=O)N(Cc1ccccc1F)S(=O)(=O)c1ccccc1-c1ncccn1',\n",
       " 'NCCCCNCCCCCCCCNC(CNC(C=CC=CC(=O)NC(CCCCN)NC(=O)C(CCCN=C(N)N)NC(=O)C(CC(C)C)NC(=O)C(N)C(CC(N)C(C)C)C(Cc1ccccc1)C(=O)O)C(N)=O',\n",
       " 'CC(C)C(NC(=O)C1CCCN1C(=O)C(CCCN)NC(=O)C(CCCCN)NC(=O)C(N)CCC(N)=O)C(=O)NC(CCCCN)C(=O)N1Cc2ccccc2CC1C(=O)O',\n",
       " 'CC(C)CC(NC(=O)C(CC(C)C)NC(=O)C(CCCCN)NC(=O)C(CCCCN)NC(=O)C(CO)NC(N)=O)C(=O)NC(CCCNC(N)=O)C(N)=O',\n",
       " 'CNC(=O)C(Cc1ccccc1)NC(=O)C(CCC1CCCCC1)NC(=O)C(CC(C)C)NC(=O)C(NC(=O)C(N)CCCCN)C(C)(C)CN(C)CC(N)Cc1cc(F)c(F)c(F)c1',\n",
       " 'CC(C)CC(NC(=O)C(N)CCCCN)C(=O)NC(CCCN)C(=O)NC(CCCCN)C(=O)C(=O)NC(CC(N)=O)C(=O)NC(Cc1ccccc1)C(N)=O',\n",
       " 'CC(C)CC(CC(N)C(=O)NC(CCCCN)C(=O)NC(CCCNC(=N)N)C(N)=O)C(=O)NC(CCCNC(=N)N)C(=O)NC(C)C(N)=O',\n",
       " 'CC(C)CC(NC(=O)C(N)CNCCCCN)C(=O)NC(CC(N)=O)C(=O)NC(CC(C)C)C(N)=O',\n",
       " 'CCC(C)C(NC(=O)C(CC(C)C)NC(=O)C(CCCNC(=N)N)NC(=O)C(N)CCCN=C(N)N)C(=O)NC(CCCCN)C(N)=O',\n",
       " 'CC(C)CC(NC(=O)C(CCCNC(=N)N)NC(=O)CCNC(=O)C(CO)NC(=O)C(CC(N)=O)N(C(=O)C(NC(=O)CC(=O)O)CC(C)C)CC(=O)O)C(N)=O',\n",
       " 'CC1C(C)=NNN1C(=O)C(CC(N)=O)NC(=O)C(Cc1ccccc1)NC(=O)c1ccccc1N',\n",
       " 'CC(C)CC(NC(=O)C(CC(C)C)NC(=O)C(CCc1ccccc1)NC(=O)C(N)CN)C(N)=O',\n",
       " 'CC(C)CC(NC(=O)C(CCCNC(=N)N)NC(=O)C(N)Cc1ccccc1)C(=O)NC(CC(N)=O)C(N)=O',\n",
       " 'O=C(NCCCCN1CCN(CCCNCc2ccccc2-c2ccccc2-c2ccccc2-c2ccccc2-c2ccccc2)CCC1)c1cc2cc[nH]c2cc1-c1ccc(-c2ccccc2-c2nn[nH]n2-c2ccccc2Cl)cc1',\n",
       " 'CC(C)CC(NC(=O)C(CC(C)C)NC(=O)C(CCCN)NC(=O)C(CC(C)C)NC(=O)C(CCCN=C(N)N)NC(=O)CCc1ccccc1O)C(=O)NC(CCCCN)C(N)=O',\n",
       " 'CC(C)CCCC(C(=O)NC(CCCCNC(N)=O)C(=O)NC(CCCNC(=N)N)C(N)=O)NC(=O)C(CCC(N)=O)NC(=O)CCC(N)C(=O)NC(CCCNC(=N)N)C(N)=O',\n",
       " 'CC(C)CC(NC(=O)C(CC(C)C)NC(=O)C(CC(C)C)NC(=O)C(N)CCCNC(=N)NCCc1ccccc1)C(=O)NC(CO)C(N)=O',\n",
       " 'CC(C)CC(=N)NCCCC(NC(=O)C(Cc1ccc(-c2ccccc2)c(Br)c1)NC(=O)C(CC(N)=O)NC(=O)C(CCC(N)=O)NC(=O)C(N)CCCNC(=N)N)C(N)=O',\n",
       " 'CCCC(NC(=O)C(CC(C)C)NC(=O)C(CC(C)C)NC(=O)C(CC)NC(=O)C(NC(=O)C(CO)NC(=O)C(N)CC(C)C)C(C)C)C(=O)C(F)(F)F',\n",
       " 'Cc1cc(C)c(C2=NC(=O)C(C#N)C23C(=O)N(C)c2ccccc23)c(C)c1',\n",
       " 'CC(C)CC(NC(=O)C(CCCNC(N)=NNC(N)=O)NC(=O)C(CC(C)C)NC(=O)C(N)CCCCN)C(=O)NC(CC(N)=O)C(N)=O',\n",
       " 'NCCCCC(NC(=O)C(Cc1ccccc1)NC(=O)C1CC(=O)NCC(CC(N)=O)NC1=O)C(=O)CC(Cc1ccccc1)CC(C)(C)C(=O)NNc1ccccc1',\n",
       " 'CCCCCCCC(C)(C)CCC1C(C[N+](Cc2ccccc2)=C(C)NC2C(=N)NC2(C)CCC(CCCCCNC(=O)c2ccc(-c3ccncc3-c3c[nH]c4ccccc34)cc2)C(=O)NC2CC2C(N)=O)C(Cl)C2CCCN12',\n",
       " 'CC(C)CC(NC(=O)C(Cc1ccccc1)CC(NC(=O)C(Cc1ccccc1)NC(=O)C(N)CCCN=C(N)N)C(=O)NCc1ccccc1)C(N)=O',\n",
       " 'CC(C)C(CCc1ccccc1-c1cc(Cl)ccc1OCCCCN1C(=O)CCC(C)(C)C1=O)C(=O)NC(CCCNC(=N)N)C(N)=O',\n",
       " 'CC(C)CC(NC(=O)C(CC(C)C)NC(=O)C(CCCN=C(N)N)NC(=O)C(CC(C)(C)C(N)C(=O)O)NC(=O)C(CCCN=C(N)N)NC(=O)C(N)CCCN)C(=O)O',\n",
       " 'CC(C)CCCCCCCCCC(CCCCCCC(=O)CNC(=O)C(CCC(N)C(O)C(N)CCCCN)C(N)=O)C(=O)NC1CCCC(=O)NCCCN(Cc2ccccc2-c2ccccc2)C(C(C)CC(=O)NC(CCCN)C(N)=O)C(C(=O)O)NC1C(=O)O',\n",
       " 'CC(C)CC(C(=O)NC(CC(=O)NCC(=O)Nc1ccc(F)cc1CN(C(=O)OC(C)(C)C)NC(C)(C)C)C(C)(C)C)C1(O)CCN(CC(C)C(=O)N2CCC(CC(F)F)CC2)CC1',\n",
       " 'CC(C)CC(N)C(=O)NC(CCCCN)C(=O)NC(CC(C)C)C(=O)NC(CCCCN)CCC(N)=O',\n",
       " 'CC(C)SC(C)(C)C1CC(CC(C)C)C1(C)CCC1OOC(C(O)C(C)(C)C)C(C)(O)C(OCc2ccccc2)C(C)(C)C(OCc2ccccc2)C1(C)CC(C)(O)C(C)(C)O',\n",
       " 'CC(C)C(CC(=O)N1CCN(C(=O)c2ccccc2-c2ccccc2-c2ccccc2)CC1)n1c(-c2ccccn2)nc2ccccc21',\n",
       " 'CC(C)CC(NC(=O)C(CCCN=C(N)N)NC(=O)C(N)CC(N)=O)C(N)=O',\n",
       " 'CN1CC(=Cc2ccc(-c3ccccc3Cl)cc2)C2(CCc3ccccc3C2)CC1=O',\n",
       " 'CCCCCC(=O)C(OC(=O)C(C)(C)C)N1C(=O)C(=C(C)c2ccccc2-c2ccccc2)N(c2ccc(C(C)=O)cc2)NC1=S',\n",
       " 'CC(=O)NC(C)C(=O)N(C)C(CC(=O)N(CCC(C)C)C(=O)C(CC(C)C)NC(=O)C(c1ccccc1)c1ccccc1)C(C)(O)C(=O)NO',\n",
       " 'CC(Cc1ccc(C(=O)Oc2ccc(C(=N)N)cc2)o1)C(=O)NCC(NC(=O)C(CCCCN)NC(=O)C(N)Cc1cccc(C(N)C(N)=O)c1)C(C)C',\n",
       " 'CC(C)(CNC(=O)CC(C(=O)NCC(F)F)C(CC(=O)OC(C)(C)C)C(F)(F)F)CN(CP(=O)(O)O)C(Cc1ccccc1)C(N)=O',\n",
       " 'CCC(C)C(NC(=O)C(N)CCCNC(=N)N)C(=O)NC(C(=O)NC(CC(C)C)C(=O)NC(CCCN=C(N)N)C(=O)NC(Cc1ccccc1)C(N)=O)c1ccccc1',\n",
       " 'CC1CCN(C(=O)c2ccc(N3CCN(c4ccccc4)CC3)c([N+](=O)[O-])c2)CC1',\n",
       " 'CC(C)CC(NC(=O)C(C)NC(=O)C(Cc1ccccc1)C(C)(C)C)C(=O)NC(CCCCN)C(=O)NC(CC(N)=O)C(N)C(=O)N1CCCCCC1']"
      ]
     },
     "metadata": {},
     "output_type": "display_data"
    }
   ],
   "source": [
    "# sampling\n",
    "ssplr = analysis.SafeSampler(lstm_agent, batch_size=16)\n",
    "generated_smiles = ssplr.sample_clean(50, maxlen=150)\n",
    "display(generated_smiles)"
   ]
  },
  {
   "cell_type": "markdown",
   "id": "35c3dfe2",
   "metadata": {},
   "source": [
    "Subsidiary files building for evaluation phase"
   ]
  },
  {
   "cell_type": "code",
   "execution_count": 8,
   "id": "a9b1f95b",
   "metadata": {},
   "outputs": [],
   "source": [
    "config.vc_fmt = project_paths['PROJECT_DIR'] + 'model-kor/vgpc/kor_vgpc_vc_e%d.ckpt'  # save valid & canonical smiles\n",
    "config.npfps_fmt = project_paths['PROJECT_DIR'] + 'model-kor/vgpc/kor_vgpc_npfps_e%d.npy'  # save fingerprint in npy\n",
    "config.fcvec_fmt = project_paths['PROJECT_DIR'] + 'model-kor/vgpc/kor_vgpc_fcvec_e%d.npy'  # save Frechet ChemNet vectors\n",
    "\n",
    "# epochs = list(range(0, config.max_epoch+1, config.save_period))\n",
    "epochs = [20]"
   ]
  },
  {
   "cell_type": "code",
   "execution_count": 9,
   "id": "c59b972b",
   "metadata": {
    "scrolled": true
   },
   "outputs": [
    {
     "name": "stderr",
     "output_type": "stream",
     "text": [
      "Using TensorFlow backend.\n"
     ]
    },
    {
     "name": "stdout",
     "output_type": "stream",
     "text": [
      "WARNING:tensorflow:From /home/bsbae402/anaconda3/envs/logics/lib/python3.7/site-packages/tensorflow_core/python/ops/resource_variable_ops.py:1630: calling BaseResourceVariable.__init__ (from tensorflow.python.ops.resource_variable_ops) with constraint is deprecated and will be removed in a future version.\n",
      "Instructions for updating:\n",
      "If using Keras pass *_constraint arguments to layers.\n",
      "WARNING:tensorflow:From /home/bsbae402/anaconda3/envs/logics/lib/python3.7/site-packages/keras/backend/tensorflow_backend.py:3313: where (from tensorflow.python.ops.array_ops) is deprecated and will be removed in a future version.\n",
      "Instructions for updating:\n",
      "Use tf.where in 2.0, which has the same broadcast rule as np.where\n"
     ]
    },
    {
     "name": "stderr",
     "output_type": "stream",
     "text": [
      "2023-03-22 10:37:32.333419: I tensorflow/stream_executor/platform/default/dso_loader.cc:44] Successfully opened dynamic library libcuda.so.1\n",
      "2023-03-22 10:37:32.368792: E tensorflow/stream_executor/cuda/cuda_driver.cc:318] failed call to cuInit: CUDA_ERROR_NO_DEVICE: no CUDA-capable device is detected\n",
      "2023-03-22 10:37:32.368827: I tensorflow/stream_executor/cuda/cuda_diagnostics.cc:169] retrieving CUDA diagnostic information for host: shepherd5\n",
      "2023-03-22 10:37:32.368835: I tensorflow/stream_executor/cuda/cuda_diagnostics.cc:176] hostname: shepherd5\n",
      "2023-03-22 10:37:32.368923: I tensorflow/stream_executor/cuda/cuda_diagnostics.cc:200] libcuda reported version is: 465.19.1\n",
      "2023-03-22 10:37:32.368959: I tensorflow/stream_executor/cuda/cuda_diagnostics.cc:204] kernel reported version is: 465.19.1\n",
      "2023-03-22 10:37:32.368966: I tensorflow/stream_executor/cuda/cuda_diagnostics.cc:310] kernel version seems to match DSO: 465.19.1\n",
      "2023-03-22 10:37:32.370248: I tensorflow/core/platform/cpu_feature_guard.cc:142] Your CPU supports instructions that this TensorFlow binary was not compiled to use: AVX2 FMA\n",
      "2023-03-22 10:37:32.383177: I tensorflow/core/platform/profile_utils/cpu_utils.cc:94] CPU Frequency: 2300040000 Hz\n",
      "2023-03-22 10:37:32.386261: I tensorflow/compiler/xla/service/service.cc:168] XLA service 0xc118110 initialized for platform Host (this does not guarantee that XLA will be used). Devices:\n",
      "2023-03-22 10:37:32.386284: I tensorflow/compiler/xla/service/service.cc:176]   StreamExecutor device (0): Host, Default Version\n"
     ]
    },
    {
     "name": "stdout",
     "output_type": "stream",
     "text": [
      "WARNING:tensorflow:From /home/bsbae402/anaconda3/envs/logics/lib/python3.7/site-packages/keras/backend/tensorflow_backend.py:422: The name tf.global_variables is deprecated. Please use tf.compat.v1.global_variables instead.\n",
      "\n"
     ]
    }
   ],
   "source": [
    "import os\n",
    "os.environ['CUDA_VISIBLE_DEVICES'] = '-1'  # use tensorflow cpu\n",
    "\n",
    "import fcd\n",
    "from logics_pack import frechet_chemnet\n",
    "fc_ref_model = fcd.load_ref_model()"
   ]
  },
  {
   "cell_type": "code",
   "execution_count": 12,
   "id": "f4159714",
   "metadata": {},
   "outputs": [
    {
     "name": "stdout",
     "output_type": "stream",
     "text": [
      "20\n",
      "- count invalids:  2432\n"
     ]
    }
   ],
   "source": [
    "for epo in epochs:\n",
    "    print(epo)\n",
    "    with open(config.sample_fmt%epo, 'r') as f:\n",
    "        gens = [line.strip() for line in f.readlines()]\n",
    "    vcs, invids = chemistry.get_valid_canons(gens)\n",
    "    print(\"- count invalids: \", len(invids))\n",
    "    with open(config.vc_fmt%epo, 'w') as f:\n",
    "        f.writelines([line+'\\n' for line in vcs])\n",
    "    fps = chemistry.get_fps_from_smilist(vcs)\n",
    "    np.save(config.npfps_fmt%epo, chemistry.rdk2npfps(fps))\n",
    "    fcvecs = fcd.get_predictions(fc_ref_model, vcs)  # ChemNet vectors\n",
    "    np.save(config.fcvec_fmt%epo, fcvecs)"
   ]
  },
  {
   "cell_type": "markdown",
   "id": "15391713",
   "metadata": {},
   "source": [
    "Evaluate FCD and OTD on validation set, and pick the best epoch"
   ]
  },
  {
   "cell_type": "code",
   "execution_count": 13,
   "id": "2044f52c",
   "metadata": {},
   "outputs": [],
   "source": [
    "# loading validation dataset\n",
    "with open(project_paths['KOR_FOLD_JSON'], 'r') as f:\n",
    "    kor_folds = json.load(f)\n",
    "data_npfps = np.load(project_paths['KOR_DATA_FP'])\n",
    "data_fcvecs = np.load(project_paths['KOR_DATA_FCVEC'])\n",
    "\n",
    "val_fold_id = expset_obj.get_setting('kor-pred-best-cv')\n",
    "val_npfps = data_npfps[kor_folds[val_fold_id]]\n",
    "val_rdkfps = chemistry.np2rdkfps(val_npfps)\n",
    "val_fcvecs = data_fcvecs[kor_folds[val_fold_id]]\n",
    "\n",
    "dsize = len(val_rdkfps)  # demand size for OT\n",
    "ssize = dsize*global_settings.OT_CALC_REPEATS  # supply size for repeated OT   "
   ]
  },
  {
   "cell_type": "code",
   "execution_count": 14,
   "id": "482da6d6",
   "metadata": {},
   "outputs": [
    {
     "name": "stdout",
     "output_type": "stream",
     "text": [
      "20\n"
     ]
    }
   ],
   "source": [
    "val_fcd_list = []\n",
    "val_otd_list = []\n",
    "for epo in epochs:\n",
    "    print(epo)\n",
    "    # load fc vectors of generation\n",
    "    gen_fcvecs = np.load(config.fcvec_fmt%epo)\n",
    "    fcdval = frechet_chemnet.fcd_calculation(val_fcvecs, gen_fcvecs)\n",
    "    val_fcd_list.append(fcdval)\n",
    "    \n",
    "    gen_npfps = np.load(config.npfps_fmt%epo)[:ssize]  # only need this amount\n",
    "    gen_rdkfps = chemistry.np2rdkfps(gen_npfps)\n",
    "    simmat = analysis.calculate_simmat(gen_rdkfps, val_rdkfps)  # row:gen, col:data\n",
    "    distmat = analysis.transport_distmat(analysis.tansim_to_dist, simmat, global_settings.OT_CALC_REPEATS)\n",
    "    _, _, motds = analysis.repeated_optimal_transport(distmat, repeat=global_settings.OT_CALC_REPEATS)\n",
    "    val_otd_list.append(np.mean(motds))"
   ]
  },
  {
   "cell_type": "code",
   "execution_count": 15,
   "id": "2d04694e",
   "metadata": {},
   "outputs": [],
   "source": [
    "# validation FCDxOTD\n",
    "val_FCDxOTD = np.array(val_fcd_list)*np.array(val_otd_list)\n",
    "# find the best epoch\n",
    "best_epoch = epochs[np.argmin(val_FCDxOTD)]\n",
    "# register the best epoch\n",
    "expset_obj.update_setting('kor-vgpc-best-epoch', best_epoch)"
   ]
  },
  {
   "cell_type": "code",
   "execution_count": 16,
   "id": "840656cc",
   "metadata": {},
   "outputs": [
    {
     "name": "stdout",
     "output_type": "stream",
     "text": [
      "20\n"
     ]
    }
   ],
   "source": [
    "print(expset_obj.get_setting('kor-vgpc-best-epoch'))"
   ]
  },
  {
   "cell_type": "code",
   "execution_count": null,
   "id": "017f91ef",
   "metadata": {},
   "outputs": [],
   "source": []
  },
  {
   "cell_type": "code",
   "execution_count": null,
   "id": "18143a89",
   "metadata": {},
   "outputs": [],
   "source": []
  }
 ],
 "metadata": {
  "kernelspec": {
   "display_name": "logics",
   "language": "python",
   "name": "logics"
  },
  "language_info": {
   "codemirror_mode": {
    "name": "ipython",
    "version": 3
   },
   "file_extension": ".py",
   "mimetype": "text/x-python",
   "name": "python",
   "nbconvert_exporter": "python",
   "pygments_lexer": "ipython3",
   "version": "3.7.16"
  }
 },
 "nbformat": 4,
 "nbformat_minor": 5
}
