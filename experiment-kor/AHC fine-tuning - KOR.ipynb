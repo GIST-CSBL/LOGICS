{
 "cells": [
  {
   "cell_type": "code",
   "execution_count": null,
   "id": "4b176397",
   "metadata": {},
   "outputs": [],
   "source": [
    "import sys\n",
    "sys.path.append('..')"
   ]
  },
  {
   "cell_type": "code",
   "execution_count": null,
   "id": "1e76d276",
   "metadata": {},
   "outputs": [],
   "source": [
    "from logics_pack import global_settings, chemistry, predictor, reward_functions, ahc\n",
    "from logics_pack import analysis, smiles_vocab, smiles_lstm\n",
    "import pandas as pd\n",
    "import numpy as np\n",
    "import json\n",
    "import torch\n",
    "\n",
    "project_paths = global_settings.build_project_paths(project_dir='../')\n",
    "expset_obj = global_settings.ExperimentSettings(project_paths['EXPERIMENT_SETTINGS_JSON'])"
   ]
  },
  {
   "cell_type": "markdown",
   "id": "8a8d0315",
   "metadata": {},
   "source": [
    "Perform AHC fine-tuning to build agent generator"
   ]
  },
  {
   "cell_type": "code",
   "execution_count": null,
   "id": "d9ffa773",
   "metadata": {},
   "outputs": [],
   "source": [
    "# AHC fine-tuning config\n",
    "config = global_settings.Object()\n",
    "config.tokens_path = project_paths['SMILES_TOKENS_PATH']\n",
    "config.pretrain_setting_path = project_paths['PRETRAIN_SETTING_JSON']\n",
    "config.pretrained_model_path = project_paths['PROJECT_DIR'] + 'model-prior/prior_e10.ckpt'\n",
    "config.featurizer = predictor.featurizer\n",
    "config.predictor_path = project_paths['PROJECT_DIR'] + \"model-kor/predictor/kor_rfr_cv%s.pkl\"%expset_obj.get_setting(\"kor-pred-best-cv\")\n",
    "\n",
    "config.max_epoch = 2000  # \"epoch\" is actually the training batches for reinforcement learning models\n",
    "config.save_period = 20\n",
    "config.save_size = 20000\n",
    "config.save_ckpt_fmt = project_paths['PROJECT_DIR'] + 'model-kor/ahc/kor_ahc_e%d.ckpt'\n",
    "config.sample_fmt = project_paths['PROJECT_DIR'] + 'model-kor/ahc/kor_ahc_e%d.txt'\n",
    "config.sigma = 15\n",
    "config.topk = 0.5  ## AHC\n",
    "config.nbmax = 100  ## DF2\n",
    "config.minscore = 0.5  ## DF2\n",
    "config.dfmode = \"linear\"  ## DF2\n",
    "config.rewarding = reward_functions.pAff_to_reward_t1\n",
    "config.train_batch_size = 128\n",
    "config.finetune_lr = 0.0003\n",
    "config.sampling_bs = 256\n",
    "\n",
    "config.device_name = 'cuda:5'  ####"
   ]
  },
  {
   "cell_type": "code",
   "execution_count": null,
   "id": "c6939833",
   "metadata": {
    "scrolled": true
   },
   "outputs": [],
   "source": [
    "# perform fine-tuning\n",
    "ahc.AHC_training(config)"
   ]
  },
  {
   "cell_type": "markdown",
   "id": "5e025cde",
   "metadata": {},
   "source": [
    "Subsidiary files building for evaluation phase"
   ]
  },
  {
   "cell_type": "code",
   "execution_count": null,
   "id": "9a8186a0",
   "metadata": {
    "scrolled": true
   },
   "outputs": [],
   "source": [
    "import os\n",
    "os.environ['CUDA_VISIBLE_DEVICES'] = '-1'  # use tensorflow cpu\n",
    "\n",
    "import fcd\n",
    "import pickle\n",
    "from logics_pack import frechet_chemnet\n",
    "fc_ref_model = fcd.load_ref_model()\n",
    "\n",
    "config.vc_fmt = project_paths['PROJECT_DIR'] + 'model-kor/ahc/kor_ahc_vc_e%d.smi'  # save valid & canonical smiles\n",
    "config.npfps_fmt = project_paths['PROJECT_DIR'] + 'model-kor/ahc/kor_ahc_npfps_e%d.npy'  # save fingerprint in npy\n",
    "config.fcvec_fmt = project_paths['PROJECT_DIR'] + 'model-kor/ahc/kor_ahc_fcvec_e%d.npy'  # save Frechet ChemNet vectors\n",
    "\n",
    "epochs = list(range(0, config.max_epoch+1, config.save_period))\n",
    "np.array(epochs)"
   ]
  },
  {
   "cell_type": "code",
   "execution_count": null,
   "id": "21367eee",
   "metadata": {
    "scrolled": true
   },
   "outputs": [],
   "source": [
    "for epo in epochs:\n",
    "    print(epo)\n",
    "    with open(config.sample_fmt%epo, 'r') as f:\n",
    "        gens = [line.strip() for line in f.readlines()]\n",
    "    vcs, invids = chemistry.get_valid_canons(gens)\n",
    "    print(\"- count invalids: \", len(invids))\n",
    "    with open(config.vc_fmt%epo, 'w') as f:\n",
    "        f.writelines([line+'\\n' for line in vcs])\n",
    "    fps = chemistry.get_fps_from_smilist(vcs)\n",
    "    np.save(config.npfps_fmt%epo, chemistry.rdk2npfps(fps))\n",
    "    fcvecs = fcd.get_predictions(fc_ref_model, vcs)  # ChemNet vectors\n",
    "    np.save(config.fcvec_fmt%epo, fcvecs)"
   ]
  },
  {
   "cell_type": "markdown",
   "id": "8112e5c0",
   "metadata": {},
   "source": [
    "Evaluate FCD and OTD on validation set, and pick the best epoch"
   ]
  },
  {
   "cell_type": "code",
   "execution_count": null,
   "id": "dedf5273",
   "metadata": {},
   "outputs": [],
   "source": [
    "# which validation fold recorded\n",
    "vfold = expset_obj.get_setting(\"kor-pred-best-cv\")\n",
    "vfold"
   ]
  },
  {
   "cell_type": "code",
   "execution_count": null,
   "id": "079a0ca8",
   "metadata": {},
   "outputs": [],
   "source": [
    "affinity_data = pd.read_csv(project_paths['KOR_DATA_PATH'])\n",
    "\n",
    "# data split info\n",
    "with open(project_paths['KOR_FOLD_JSON'], 'r') as f:\n",
    "    kor_folds = json.load(f)\n",
    "\n",
    "# retrieve validation set\n",
    "val_ids = kor_folds[vfold]\n",
    "val_data = affinity_data.iloc[val_ids]\n",
    "\n",
    "# get validation set activate (vsa)\n",
    "vsa_data = val_data[val_data['affinity']>global_settings.KOR_ACT_THRS]  # active among validation set\n",
    "len(vsa_data)\n",
    "\n",
    "vsa_smis = vsa_data['smiles'].tolist()\n",
    "vsa_rdkfps = chemistry.get_fps_from_smilist(vsa_smis)\n",
    "vsa_fc_vecs = fcd.get_predictions(fc_ref_model, vsa_smis)\n",
    "\n",
    "dsize = len(vsa_rdkfps)  # demand size for OT\n",
    "ssize = dsize*global_settings.OT_CALC_REPEATS  # supply size for repeated OT\n",
    "\n",
    "# load predictor for PredAct (avg. predicted activity) calculation\n",
    "with open(config.predictor_path, 'rb') as f:\n",
    "    predictor = pickle.load(f)"
   ]
  },
  {
   "cell_type": "code",
   "execution_count": null,
   "id": "4d1767a3",
   "metadata": {
    "scrolled": true
   },
   "outputs": [],
   "source": [
    "val_fcd_list = []\n",
    "val_otd_list = []\n",
    "predact_list = []\n",
    "\n",
    "for epo in epochs:\n",
    "    print(epo)\n",
    "    # load fc vectors of generation\n",
    "    gen_fcvecs = np.load(config.fcvec_fmt%epo)\n",
    "    fcdval = frechet_chemnet.fcd_calculation(gen_fcvecs, vsa_fc_vecs)\n",
    "    val_fcd_list.append(fcdval)\n",
    "    \n",
    "    gen_npfps = np.load(config.npfps_fmt%epo)[:ssize]  # only need this amount\n",
    "    gen_rdkfps = chemistry.np2rdkfps(gen_npfps)\n",
    "    simmat = analysis.calculate_simmat(gen_rdkfps, vsa_rdkfps)  # row:gen, col:data\n",
    "    distmat = analysis.transport_distmat(analysis.tansim_to_dist, simmat, global_settings.OT_CALC_REPEATS)\n",
    "    _, _, motds = analysis.repeated_optimal_transport(distmat, repeat=global_settings.OT_CALC_REPEATS)\n",
    "    val_otd_list.append(np.mean(motds))\n",
    "\n",
    "    # record PredAct\n",
    "    predact_list.append(np.mean(predictor.predict(gen_npfps)))"
   ]
  },
  {
   "cell_type": "code",
   "execution_count": null,
   "id": "e67a9044",
   "metadata": {},
   "outputs": [],
   "source": [
    "# validation FCDxOTD\n",
    "val_FCDxOTD = np.array(val_fcd_list)*np.array(val_otd_list)\n",
    "# dataframe for validation performance\n",
    "v_perf = pd.DataFrame(epochs, columns=['epoch'])\n",
    "v_perf['v-OTDxFCD'] = val_FCDxOTD\n",
    "v_perf['v-OTD'] = val_otd_list\n",
    "v_perf['v-FCD'] = val_fcd_list\n",
    "v_perf['PredAct'] = predact_list\n",
    "v_perf"
   ]
  },
  {
   "cell_type": "code",
   "execution_count": null,
   "id": "62718abc",
   "metadata": {},
   "outputs": [],
   "source": [
    "# we are only interested in epochs that achieved PredAct > (activity threshold)\n",
    "subv = v_perf[v_perf['PredAct']>global_settings.KOR_ACT_THRS].copy()\n",
    "\n",
    "# find the best epoch\n",
    "vbest = subv.loc[subv['v-OTDxFCD'].idxmin()]\n",
    "print(vbest)\n",
    "\n",
    "# register the best epoch\n",
    "expset_obj.update_setting('kor-ahc-best-epoch', int(vbest['epoch']))"
   ]
  },
  {
   "cell_type": "code",
   "execution_count": null,
   "id": "86441c58",
   "metadata": {},
   "outputs": [],
   "source": []
  },
  {
   "cell_type": "code",
   "execution_count": null,
   "id": "d1eac6b8",
   "metadata": {},
   "outputs": [],
   "source": []
  },
  {
   "cell_type": "code",
   "execution_count": null,
   "id": "1aaea0d3",
   "metadata": {},
   "outputs": [],
   "source": []
  }
 ],
 "metadata": {
  "kernelspec": {
   "display_name": "logics",
   "language": "python",
   "name": "logics"
  },
  "language_info": {
   "codemirror_mode": {
    "name": "ipython",
    "version": 3
   },
   "file_extension": ".py",
   "mimetype": "text/x-python",
   "name": "python",
   "nbconvert_exporter": "python",
   "pygments_lexer": "ipython3",
   "version": "3.7.16"
  }
 },
 "nbformat": 4,
 "nbformat_minor": 5
}
