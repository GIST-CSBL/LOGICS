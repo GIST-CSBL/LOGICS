{
 "cells": [
  {
   "cell_type": "code",
   "execution_count": 1,
   "id": "4b176397",
   "metadata": {},
   "outputs": [],
   "source": [
    "import sys\n",
    "sys.path.append('..')"
   ]
  },
  {
   "cell_type": "code",
   "execution_count": 2,
   "id": "1e76d276",
   "metadata": {},
   "outputs": [],
   "source": [
    "from logics_pack import global_settings, chemistry, reinvent, predictor, reward_functions\n",
    "from logics_pack import analysis, smiles_vocab, smiles_lstm\n",
    "import pandas as pd\n",
    "import numpy as np\n",
    "import json\n",
    "import torch\n",
    "\n",
    "project_paths = global_settings.build_project_paths(project_dir='../')\n",
    "expset_obj = global_settings.ExperimentSettings(project_paths['EXPERIMENT_SETTINGS_JSON'])"
   ]
  },
  {
   "cell_type": "markdown",
   "id": "8a8d0315",
   "metadata": {},
   "source": [
    "Perform REINVENT fine-tuning to build agent generator"
   ]
  },
  {
   "cell_type": "code",
   "execution_count": 3,
   "id": "d9ffa773",
   "metadata": {},
   "outputs": [],
   "source": [
    "# REINVENT fine-tuning config\n",
    "config = global_settings.Object()\n",
    "config.tokens_path = project_paths['SMILES_TOKENS_PATH']\n",
    "config.pretrain_setting_path = project_paths['PRETRAIN_SETTING_JSON']\n",
    "config.pretrained_model_path = project_paths['PROJECT_DIR'] + 'model-prior/prior_e10.ckpt'\n",
    "config.featurizer = predictor.featurizer\n",
    "config.predictor_path = project_paths['PROJECT_DIR'] + \"model-kor/predictor/kor_rfr_cv%s.pkl\"%expset_obj.get_setting(\"kor-pred-best-cv\")\n",
    "\n",
    "config.max_epoch = 30000  # \"epoch\" is actually the training batches for reinforcement learning models\n",
    "config.save_period = 600\n",
    "config.save_size = 20000\n",
    "config.save_ckpt_fmt = project_paths['PROJECT_DIR'] + 'model-kor/reinvent/kor_reinv_e%d.ckpt'\n",
    "config.sample_fmt = project_paths['PROJECT_DIR'] + 'model-kor/reinvent/kor_reinv_e%d.txt'\n",
    "config.sigma = 10\n",
    "config.rewarding = reward_functions.pAff_to_reward_t1\n",
    "config.train_batch_size = 128\n",
    "config.finetune_lr = 0.0002\n",
    "config.sampling_bs = 256\n",
    "\n",
    "config.device_name = 'cpu'"
   ]
  },
  {
   "cell_type": "code",
   "execution_count": null,
   "id": "c6939833",
   "metadata": {},
   "outputs": [],
   "source": [
    "# perform fine-tuning\n",
    "reinvent.REINVENT_training(config)"
   ]
  },
  {
   "cell_type": "markdown",
   "id": "491cfc0d",
   "metadata": {},
   "source": [
    "Load REINVENT agent generator and sample some examples"
   ]
  },
  {
   "cell_type": "code",
   "execution_count": 4,
   "id": "2f97de50",
   "metadata": {},
   "outputs": [
    {
     "data": {
      "text/plain": [
       "<All keys matched successfully>"
      ]
     },
     "execution_count": 4,
     "metadata": {},
     "output_type": "execute_result"
    }
   ],
   "source": [
    "vocab_obj = smiles_vocab.Vocabulary(init_from_file=config.tokens_path)\n",
    "smtk = smiles_vocab.SmilesTokenizer(vocab_obj)\n",
    "\n",
    "with open(config.pretrain_setting_path, 'r') as f:\n",
    "    model_setting = json.load(f)\n",
    "    \n",
    "# load agent model (epoch=3000)\n",
    "agent_ckpt = torch.load(config.save_ckpt_fmt%3000, map_location='cpu')\n",
    "lstm_agent = smiles_lstm.SmilesLSTMGenerator(vocab_obj, model_setting['emb_size'], model_setting['hidden_units'], device_name='cpu')\n",
    "lstm_agent.lstm.load_state_dict(agent_ckpt['model_state_dict'])"
   ]
  },
  {
   "cell_type": "code",
   "execution_count": 5,
   "id": "a52e1423",
   "metadata": {
    "scrolled": true
   },
   "outputs": [
    {
     "data": {
      "text/plain": [
       "['O=C(Cn1ncc2c1-c1ccccc1OC2)N1CCN(c2ccccc2)CC1',\n",
       " 'O=S(=O)(NCC(c1ccco1)N1CCCCC1)c1cccc2ccccc12',\n",
       " 'Cc1nc(C(=O)N2CCN(C(=O)c3cccn3-c3ccccc3F)CC2)cs1',\n",
       " 'CC1CN(S(=O)(=O)c2cccc(C(=O)N3CCN(c4ccccc4F)CC3)c2)CCN1c1cccc(Cl)c1',\n",
       " 'CCOC(=O)C1CCN(C(=O)c2cc(=O)c3ccccc3o2)CC1',\n",
       " 'Cc1cc(C(=O)N2CCC2(C)C(=O)Nc2ccc3sc(C)nc3c2)c(C)o1',\n",
       " 'COCC1CN=C(Nc2ncco2)N1Cc1ccc(Cl)cc1',\n",
       " 'Cc1cnn(C2CN3CC(COCc4ccc(Cl)nc4)CC(C2)O3)c1',\n",
       " 'CCCN(CC(O)(Cn1cncn1)c1ccc(F)cc1F)C(C)CC',\n",
       " 'CC1=C(C(=O)Nc2ccc3ncncc3c2)C(c2ccc(F)c(C(N)=O)c2)C2C(=O)N=C(S)N2C1',\n",
       " 'CCOC(=O)CC1c2ccccc2C2CCN(C(=O)OCc3ccccc3)C(C(=O)OC)C21',\n",
       " 'C=C(C)C1CCC2(C(=O)O)CCC3(C)C(CCC4C5(C)CCC(=O)C(C)(C)C5CCC43C)C12',\n",
       " 'Cc1ccccc1C(=O)N1CC(N2CCN(S(=O)(=O)N3CCCCCCC3)CC2)C1',\n",
       " 'Cc1cccc(NC(=O)N2CCCC2c2cnc(-c3ccccc3F)o2)c1',\n",
       " 'CC(=O)NCCNC(=O)CCc1cc(C)c(O)c(Cl)c1',\n",
       " 'Cc1ccccc1C(=O)N1CCC(C(=O)c2ccccc2)CC1',\n",
       " 'CCCCCCCCCCCCCC(O)C(N)Cc1ccccc1',\n",
       " 'CC1CCCN(C(=O)CSCc2ccccc2Cl)C1',\n",
       " 'CCCCOC(=O)N1CCN(C(=O)C(CC)NC(=O)C2CCNCC2)CC1',\n",
       " 'C=C(C)C1CCC2(CCOC)CCC3(C)C(CCC4C5(C)CCC(OC(C)=O)C(C)(C)C5CCC43C)C12',\n",
       " 'CC(C)CC(=O)N1CCCC(Cn2cccn2)C1',\n",
       " 'Cc1ncccc1C(=O)N1CCC1(C)C(=O)NCc1cccnc1',\n",
       " 'FC(F)(F)c1ccc2c(c1)N(CCCN1CCOCC1)c1ccccc1S2',\n",
       " 'CCOc1cc(CN2CCC(C(=O)N3CCCCCCC3)CC2)ccc1OC',\n",
       " 'CC(C)CC(NC(=O)OCc1ccccc1)C(=O)NC(CCCCN)C(=O)N1CCC2(C=Cc3ccccc32)CC1',\n",
       " 'O=C1NC(=O)C2(CC3CCCCN32)C(=O)N1CCc1ccccc1',\n",
       " 'CCNC(=O)C(C)NC(=O)C(CC(C)C)NC(=O)C(CC(C)C)NC(=O)C(C)NC(=O)CC(C)CC(C)CCc1ccccc1',\n",
       " 'CC1(N2CCCCC2C(=O)Nc2ccc(-c3ccccc3S(N)(=O)=O)cc2)CCC1',\n",
       " 'CCCC(=O)OCC(=O)N1CCc2ccccc2C1c1ccc2[nH]nc(C)c2c1',\n",
       " 'Cc1ccccc1C(=O)N1CCCC(n2cncn2)C1',\n",
       " 'Cc1ccc(NC(=O)CSc2nc(N)cc(-n3ccnc3)n2)cc1',\n",
       " 'Cc1cc(OCc2cc(C(=O)N3CCC(O)CC3)ccc2O)ccc1OC(F)(F)F',\n",
       " 'CCCOC(=O)C1C(c2ccc(Cl)cc2)CC2CCC1N2C',\n",
       " 'CCc1nc2c(ccc3nc(N4CCN(C(C)=O)CC4)n(C)c32)c(NC(C)C)n1',\n",
       " 'CC(=O)NC(C)C#Cc1cnc(Oc2ccc(OC(C)C)cc2)s1',\n",
       " 'Cc1c(NC(=O)C23CC4CC(CC(C4)C2)C3)cccc1-c1cc(-c2ccc(CNCc3ccc(F)cc3)cc2)[nH]n1',\n",
       " 'CCC(=O)N1CCCC(C(=O)N2CCN(c3ccc(OC)cc3)CC2)C1',\n",
       " 'Clc1ccc(CC(c2ccccc2)n2cncn2)cc1',\n",
       " 'CCOC(=O)C1=C(C)N(c2cccc(C(F)(F)F)c2)C(=O)N(C)C1c1ccc(C#N)cc1C(=O)Nc1cc(C(F)(F)F)ccc1-n1nccn1',\n",
       " 'NCCSC(N)=NCCC(N)C(=O)O',\n",
       " 'COc1ccc(C=Nn2c(Cc3ccc(OC)c(OC)c3)nc3c([N+](=O)[O-])cc(C)cc32)cc1OC',\n",
       " 'COCOc1cc(CC2(C)COC(=O)C2)ccc1O',\n",
       " 'COc1ccc(-c2noc(CNC(=O)Cc3cc(C)cc(C)c3)n2)cc1OC',\n",
       " 'OC(CN1CCC(n2cc(-c3cccs3)nn2)CC1)(Cn1cncn1)c1ccc(F)cc1F',\n",
       " 'Cc1cccc2n1cc(CBr)cc1c(Nc1ccc(Cl)cc1Cl)n2C',\n",
       " 'Cc1cnn(C2CN(CC(=O)N3CCN(c4c(F)cccc4F)CC3)C2=O)c1',\n",
       " 'Cc1ccccc1C(=O)N1CCN(CCCCNC(=O)c2cccc(-n3cnnn3)c2)CC1',\n",
       " 'O=C(c1ccccc1)N1CCN(CCN2C(=O)CC(C)(c3ccc4c(c3)OCO4)C2=O)CC1',\n",
       " 'CC(=O)OCC1(C)C(OC(C)=O)CCC2(C)C3CCC(C(C)C)C3(C)CCC21C',\n",
       " 'O=C(COc1ccc(Cl)cc1BrNc1ccccc1C(=O)O)Nc1ccccc1']"
      ]
     },
     "metadata": {},
     "output_type": "display_data"
    }
   ],
   "source": [
    "# sampling\n",
    "ssplr = analysis.SafeSampler(lstm_agent, batch_size=16)\n",
    "generated_smiles = ssplr.sample_clean(50, maxlen=150)\n",
    "display(generated_smiles)"
   ]
  },
  {
   "cell_type": "code",
   "execution_count": null,
   "id": "ad3893da",
   "metadata": {},
   "outputs": [],
   "source": []
  }
 ],
 "metadata": {
  "kernelspec": {
   "display_name": "logics_shep8",
   "language": "python",
   "name": "logics_shep8"
  },
  "language_info": {
   "codemirror_mode": {
    "name": "ipython",
    "version": 3
   },
   "file_extension": ".py",
   "mimetype": "text/x-python",
   "name": "python",
   "nbconvert_exporter": "python",
   "pygments_lexer": "ipython3",
   "version": "3.7.16"
  }
 },
 "nbformat": 4,
 "nbformat_minor": 5
}
