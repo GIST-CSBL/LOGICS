{
 "cells": [
  {
   "cell_type": "code",
   "execution_count": null,
   "id": "efcbb934",
   "metadata": {},
   "outputs": [],
   "source": [
    "import sys\n",
    "sys.path.append('..')"
   ]
  },
  {
   "cell_type": "code",
   "execution_count": null,
   "id": "27654889",
   "metadata": {},
   "outputs": [],
   "source": [
    "from logics_pack import global_settings, chemistry, logics, predictor, analysis, smiles_vocab, smiles_lstm\n",
    "import pandas as pd\n",
    "import numpy as np\n",
    "import json\n",
    "import torch\n",
    "\n",
    "project_paths = global_settings.build_project_paths(project_dir='../')\n",
    "expset_obj = global_settings.ExperimentSettings(project_paths['EXPERIMENT_SETTINGS_JSON'])"
   ]
  },
  {
   "cell_type": "markdown",
   "id": "90aa314a",
   "metadata": {},
   "source": [
    "Perform LOGICS fine-tuning to build agent generator"
   ]
  },
  {
   "cell_type": "code",
   "execution_count": null,
   "id": "afa7dd31",
   "metadata": {},
   "outputs": [],
   "source": [
    "# LOGICS fine-tuning config\n",
    "config = global_settings.Object()\n",
    "\n",
    "config.ablation = None  # we will use full LOGICS model\n",
    "\n",
    "config.tokens_path = project_paths['SMILES_TOKENS_PATH']\n",
    "config.pretrain_setting_path = project_paths['PRETRAIN_SETTING_JSON']\n",
    "config.pretrained_model_path = project_paths['PROJECT_DIR'] + 'model-prior/prior_e10.ckpt'\n",
    "\n",
    "config.featurizer = predictor.featurizer\n",
    "config.predictor_path = project_paths['PROJECT_DIR'] + \"model-kor/predictor/kor_rfr_cv%s.pkl\"%expset_obj.get_setting(\"kor-pred-best-cv\")\n",
    "\n",
    "config.max_epoch = 200\n",
    "config.save_period = 4\n",
    "config.save_ckpt_fmt = project_paths['PROJECT_DIR'] + 'model-kor/logics/kor_logics_e%d.ckpt'\n",
    "config.sample_fmt = project_paths['PROJECT_DIR'] + 'model-kor/logics/kor_logics_e%d.txt'\n",
    "config.memory_fmt = project_paths['PROJECT_DIR'] + 'model-kor/logics/kor_logics_mem_e%d.csv'\n",
    "config.memory_size = 100000\n",
    "config.save_size = 20000\n",
    "config.gen_size = config.save_size\n",
    "config.exp_size = config.save_size\n",
    "config.finetune_lr = 0.0001\n",
    "config.finetune_bs = 32\n",
    "config.sampling_bs = 256\n",
    "\n",
    "config.device_name = 'cpu'"
   ]
  },
  {
   "cell_type": "code",
   "execution_count": null,
   "id": "1a369579",
   "metadata": {
    "scrolled": true
   },
   "outputs": [],
   "source": [
    "# perform fine-tuning\n",
    "logics.LOGICS_training(config)"
   ]
  },
  {
   "cell_type": "markdown",
   "id": "3807ceb5",
   "metadata": {},
   "source": [
    "Load LOGICS agent generator and sample some examples"
   ]
  },
  {
   "cell_type": "code",
   "execution_count": null,
   "id": "2d32a8e2",
   "metadata": {},
   "outputs": [],
   "source": [
    "vocab_obj = smiles_vocab.Vocabulary(init_from_file=config.tokens_path)\n",
    "smtk = smiles_vocab.SmilesTokenizer(vocab_obj)\n",
    "\n",
    "with open(config.pretrain_setting_path, 'r') as f:\n",
    "    model_setting = json.load(f)\n",
    "    \n",
    "# load agent model (epoch=100)\n",
    "agent_ckpt = torch.load(config.save_ckpt_fmt%100, map_location='cpu')\n",
    "lstm_agent = smiles_lstm.SmilesLSTMGenerator(vocab_obj, model_setting['emb_size'], model_setting['hidden_units'], device_name='cpu')\n",
    "lstm_agent.lstm.load_state_dict(agent_ckpt['model_state_dict'])"
   ]
  },
  {
   "cell_type": "code",
   "execution_count": null,
   "id": "ef4e3548",
   "metadata": {
    "scrolled": true
   },
   "outputs": [],
   "source": [
    "# sampling\n",
    "ssplr = analysis.SafeSampler(lstm_agent, batch_size=16)\n",
    "generated_smiles = ssplr.sample_clean(50, maxlen=150)\n",
    "display(generated_smiles)"
   ]
  },
  {
   "cell_type": "markdown",
   "id": "4ff98104",
   "metadata": {},
   "source": [
    "Subsidiary files building for evaluation phase"
   ]
  },
  {
   "cell_type": "code",
   "execution_count": null,
   "id": "e41619be",
   "metadata": {},
   "outputs": [],
   "source": [
    "config.vc_fmt = project_paths['PROJECT_DIR'] + 'model-kor/logics/kor_logics_vc_e%d.smi'  # save valid & canonical smiles\n",
    "config.npfps_fmt = project_paths['PROJECT_DIR'] + 'model-kor/logics/kor_logics_npfps_e%d.npy'  # save fingerprint in npy\n",
    "config.fcvec_fmt = project_paths['PROJECT_DIR'] + 'model-kor/logics/kor_logics_fcvec_e%d.npy'  # save Frechet ChemNet vectors\n",
    "\n",
    "# epochs = list(range(0, config.max_epoch+1, config.save_period))\n",
    "epochs = [100]"
   ]
  },
  {
   "cell_type": "code",
   "execution_count": null,
   "id": "561ddea4",
   "metadata": {
    "scrolled": true
   },
   "outputs": [],
   "source": [
    "import os\n",
    "os.environ['CUDA_VISIBLE_DEVICES'] = '-1'  # use tensorflow cpu\n",
    "\n",
    "import fcd\n",
    "from logics_pack import frechet_chemnet\n",
    "fc_ref_model = fcd.load_ref_model()"
   ]
  },
  {
   "cell_type": "code",
   "execution_count": null,
   "id": "db74c373",
   "metadata": {},
   "outputs": [],
   "source": [
    "for epo in epochs:\n",
    "    print(epo)\n",
    "    with open(config.sample_fmt%epo, 'r') as f:\n",
    "        gens = [line.strip() for line in f.readlines()]\n",
    "    vcs, invids = chemistry.get_valid_canons(gens)\n",
    "    print(\"- count invalids: \", len(invids))\n",
    "    with open(config.vc_fmt%epo, 'w') as f:\n",
    "        f.writelines([line+'\\n' for line in vcs])\n",
    "    fps = chemistry.get_fps_from_smilist(vcs)\n",
    "    np.save(config.npfps_fmt%epo, chemistry.rdk2npfps(fps))\n",
    "    fcvecs = fcd.get_predictions(fc_ref_model, vcs)  # ChemNet vectors\n",
    "    np.save(config.fcvec_fmt%epo, fcvecs)"
   ]
  },
  {
   "cell_type": "markdown",
   "id": "67b8fce2",
   "metadata": {},
   "source": [
    "Evaluate FCD and OTD on validation set, and pick the best epoch"
   ]
  },
  {
   "cell_type": "code",
   "execution_count": null,
   "id": "2ee18b8f",
   "metadata": {},
   "outputs": [],
   "source": [
    "# loading validation dataset\n",
    "with open(project_paths['KOR_FOLD_JSON'], 'r') as f:\n",
    "    kor_folds = json.load(f)\n",
    "data_npfps = np.load(project_paths['KOR_DATA_FP'])\n",
    "data_fcvecs = np.load(project_paths['KOR_DATA_FCVEC'])\n",
    "\n",
    "val_fold_id = expset_obj.get_setting('kor-pred-best-cv')\n",
    "val_npfps = data_npfps[kor_folds[val_fold_id]]\n",
    "val_rdkfps = chemistry.np2rdkfps(val_npfps)\n",
    "val_fcvecs = data_fcvecs[kor_folds[val_fold_id]]\n",
    "\n",
    "dsize = len(val_rdkfps)  # demand size for OT\n",
    "ssize = dsize*global_settings.OT_CALC_REPEATS  # supply size for repeated OT   "
   ]
  },
  {
   "cell_type": "code",
   "execution_count": null,
   "id": "9382f39d",
   "metadata": {},
   "outputs": [],
   "source": [
    "val_fcd_list = []\n",
    "val_otd_list = []\n",
    "for epo in epochs:\n",
    "    print(epo)\n",
    "    # load fc vectors of generation\n",
    "    gen_fcvecs = np.load(config.fcvec_fmt%epo)\n",
    "    fcdval = frechet_chemnet.fcd_calculation(val_fcvecs, gen_fcvecs)\n",
    "    val_fcd_list.append(fcdval)\n",
    "    \n",
    "    gen_npfps = np.load(config.npfps_fmt%epo)[:ssize]  # only need this amount\n",
    "    gen_rdkfps = chemistry.np2rdkfps(gen_npfps)\n",
    "    simmat = analysis.calculate_simmat(gen_rdkfps, val_rdkfps)  # row:gen, col:data\n",
    "    distmat = analysis.transport_distmat(analysis.tansim_to_dist, simmat, global_settings.OT_CALC_REPEATS)\n",
    "    _, _, motds = analysis.repeated_optimal_transport(distmat, repeat=global_settings.OT_CALC_REPEATS)\n",
    "    val_otd_list.append(np.mean(motds))"
   ]
  },
  {
   "cell_type": "code",
   "execution_count": null,
   "id": "166fba91",
   "metadata": {},
   "outputs": [],
   "source": [
    "# validation FCDxOTD\n",
    "val_FCDxOTD = np.array(val_fcd_list)*np.array(val_otd_list)\n",
    "# find the best epoch\n",
    "best_epoch = epochs[np.argmin(val_FCDxOTD)]\n",
    "# register the best epoch\n",
    "expset_obj.update_setting('kor-logics-best-epoch', best_epoch)"
   ]
  },
  {
   "cell_type": "code",
   "execution_count": null,
   "id": "fa0ec5d9",
   "metadata": {},
   "outputs": [],
   "source": [
    "print(expset_obj.get_setting('kor-logics-best-epoch'))"
   ]
  },
  {
   "cell_type": "code",
   "execution_count": null,
   "id": "1524d4c7",
   "metadata": {},
   "outputs": [],
   "source": []
  },
  {
   "cell_type": "code",
   "execution_count": null,
   "id": "58b03be4",
   "metadata": {},
   "outputs": [],
   "source": []
  }
 ],
 "metadata": {
  "kernelspec": {
   "display_name": "logics",
   "language": "python",
   "name": "logics"
  },
  "language_info": {
   "codemirror_mode": {
    "name": "ipython",
    "version": 3
   },
   "file_extension": ".py",
   "mimetype": "text/x-python",
   "name": "python",
   "nbconvert_exporter": "python",
   "pygments_lexer": "ipython3",
   "version": "3.7.16"
  }
 },
 "nbformat": 4,
 "nbformat_minor": 5
}
