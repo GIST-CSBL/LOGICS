{
 "cells": [
  {
   "cell_type": "code",
   "execution_count": 1,
   "id": "1dfbc963",
   "metadata": {},
   "outputs": [],
   "source": [
    "import sys\n",
    "sys.path.append('..')"
   ]
  },
  {
   "cell_type": "code",
   "execution_count": 2,
   "id": "e5e9006e",
   "metadata": {},
   "outputs": [
    {
     "name": "stderr",
     "output_type": "stream",
     "text": [
      "Using TensorFlow backend.\n"
     ]
    },
    {
     "data": {
      "text/plain": [
       "dict_keys(['kor-pred-best-cv', 'pik3ca-pred-best-cv', 'kor-logics-best-epoch', 'kor-vgpc-best-epoch', 'kor-segler-best-epoch', 'kor-reinv-best-epoch', 'kor-drugex-best-epoch', 'pik3ca-logics-best-epoch', 'pik3ca-segler-best-epoch', 'pik3ca-vgpc-best-epoch', 'pik3ca-reinv-best-epoch', 'pik3ca-drugex-best-epoch'])"
      ]
     },
     "execution_count": 2,
     "metadata": {},
     "output_type": "execute_result"
    }
   ],
   "source": [
    "import pandas as pd\n",
    "import numpy as np\n",
    "import pickle\n",
    "import json\n",
    "from logics_pack import global_settings, analysis, chemistry, evaluation, frechet_chemnet\n",
    "import fcd\n",
    "\n",
    "project_paths = global_settings.build_project_paths(project_dir='../')\n",
    "expset_obj = global_settings.ExperimentSettings(project_paths['EXPERIMENT_SETTINGS_JSON'])\n",
    "expset_obj.get_keys()"
   ]
  },
  {
   "cell_type": "code",
   "execution_count": 3,
   "id": "8ba5ea7f",
   "metadata": {},
   "outputs": [],
   "source": [
    "## run this cell in case CuDNN library error occurs \n",
    "import os\n",
    "os.environ['CUDA_VISIBLE_DEVICES'] = '-1'"
   ]
  },
  {
   "cell_type": "code",
   "execution_count": 4,
   "id": "24fd5326",
   "metadata": {
    "scrolled": true
   },
   "outputs": [
    {
     "name": "stdout",
     "output_type": "stream",
     "text": [
      "WARNING:tensorflow:From /home/bsbae402/anaconda3/envs/logics/lib/python3.7/site-packages/tensorflow_core/python/ops/resource_variable_ops.py:1630: calling BaseResourceVariable.__init__ (from tensorflow.python.ops.resource_variable_ops) with constraint is deprecated and will be removed in a future version.\n",
      "Instructions for updating:\n",
      "If using Keras pass *_constraint arguments to layers.\n",
      "WARNING:tensorflow:From /home/bsbae402/anaconda3/envs/logics/lib/python3.7/site-packages/keras/backend/tensorflow_backend.py:3313: where (from tensorflow.python.ops.array_ops) is deprecated and will be removed in a future version.\n",
      "Instructions for updating:\n",
      "Use tf.where in 2.0, which has the same broadcast rule as np.where\n"
     ]
    },
    {
     "name": "stderr",
     "output_type": "stream",
     "text": [
      "2023-04-12 15:30:26.148484: I tensorflow/stream_executor/platform/default/dso_loader.cc:44] Successfully opened dynamic library libcuda.so.1\n",
      "2023-04-12 15:30:26.189838: E tensorflow/stream_executor/cuda/cuda_driver.cc:318] failed call to cuInit: CUDA_ERROR_NO_DEVICE: no CUDA-capable device is detected\n",
      "2023-04-12 15:30:26.189871: I tensorflow/stream_executor/cuda/cuda_diagnostics.cc:169] retrieving CUDA diagnostic information for host: shepherd7\n",
      "2023-04-12 15:30:26.189878: I tensorflow/stream_executor/cuda/cuda_diagnostics.cc:176] hostname: shepherd7\n",
      "2023-04-12 15:30:26.189970: I tensorflow/stream_executor/cuda/cuda_diagnostics.cc:200] libcuda reported version is: 465.19.1\n",
      "2023-04-12 15:30:26.189998: I tensorflow/stream_executor/cuda/cuda_diagnostics.cc:204] kernel reported version is: 465.19.1\n",
      "2023-04-12 15:30:26.190004: I tensorflow/stream_executor/cuda/cuda_diagnostics.cc:310] kernel version seems to match DSO: 465.19.1\n",
      "2023-04-12 15:30:26.191234: I tensorflow/core/platform/cpu_feature_guard.cc:142] Your CPU supports instructions that this TensorFlow binary was not compiled to use: AVX2 AVX512F FMA\n",
      "2023-04-12 15:30:26.211957: I tensorflow/core/platform/profile_utils/cpu_utils.cc:94] CPU Frequency: 2300000000 Hz\n",
      "2023-04-12 15:30:26.217662: I tensorflow/compiler/xla/service/service.cc:168] XLA service 0xa097940 initialized for platform Host (this does not guarantee that XLA will be used). Devices:\n",
      "2023-04-12 15:30:26.217684: I tensorflow/compiler/xla/service/service.cc:176]   StreamExecutor device (0): Host, Default Version\n"
     ]
    },
    {
     "name": "stdout",
     "output_type": "stream",
     "text": [
      "WARNING:tensorflow:From /home/bsbae402/anaconda3/envs/logics/lib/python3.7/site-packages/keras/backend/tensorflow_backend.py:422: The name tf.global_variables is deprecated. Please use tf.compat.v1.global_variables instead.\n",
      "\n"
     ]
    }
   ],
   "source": [
    "fc_ref_model = fcd.load_ref_model()"
   ]
  },
  {
   "cell_type": "code",
   "execution_count": 5,
   "id": "a53f23e5",
   "metadata": {},
   "outputs": [],
   "source": [
    "SAMPLE_SIZE = 20000  # we sampled and saved 20k for each model\n",
    "INTDIV_SIZE = 1000  # sample size to be used for intdiv calculation\n",
    "\n",
    "# we need to fillout the following table\n",
    "perf_table = pd.DataFrame(index=['validity','uniqueness','novelty','diversity','PredAct','PwSim','FCD','OTD'], \n",
    "                        columns=['prior','vgpc','segler','reinv','drugex','logics'])\n",
    "model_names = perf_table.columns.tolist()\n",
    "metrics = perf_table.index.tolist()"
   ]
  },
  {
   "cell_type": "code",
   "execution_count": 6,
   "id": "c484e687",
   "metadata": {},
   "outputs": [],
   "source": [
    "# recorded epochs for each model\n",
    "model_e = {\n",
    "    'prior': 10, \n",
    "    'vgpc':int(expset_obj.get_setting('kor-vgpc-best-epoch')),\n",
    "    'segler':int(expset_obj.get_setting('kor-segler-best-epoch')), \n",
    "    'reinv':int(expset_obj.get_setting('kor-reinv-best-epoch')), \n",
    "    'drugex':int(expset_obj.get_setting('kor-drugex-best-epoch')),\n",
    "    'logics':int(expset_obj.get_setting('kor-logics-best-epoch')),\n",
    "}"
   ]
  },
  {
   "cell_type": "code",
   "execution_count": 7,
   "id": "92c002a9",
   "metadata": {},
   "outputs": [],
   "source": [
    "# generation file paths\n",
    "paths_vc = {\n",
    "    'prior': project_paths['PROJECT_DIR']+'model-prior/prior_vc_e{}.smi'.format(model_e['prior']),\n",
    "    'vgpc': project_paths['PROJECT_DIR']+'model-kor/vgpc/kor_vgpc_vc_e{}.smi'.format(model_e['vgpc']),\n",
    "    'segler': project_paths['PROJECT_DIR']+'model-kor/segler/kor_segler_vc_e{}.smi'.format(model_e['segler']),\n",
    "    'reinv': project_paths['PROJECT_DIR']+'model-kor/reinvent/kor_reinv_vc_e{}.smi'.format(model_e['reinv']),\n",
    "    'drugex': project_paths['PROJECT_DIR']+'model-kor/drugex/kor_drugex_vc_e{}.smi'.format(model_e['drugex']),\n",
    "    'logics': project_paths['PROJECT_DIR']+'model-kor/logics/kor_logics_vc_e{}.smi'.format(model_e['logics'])\n",
    "}\n",
    "paths_npfps = {\n",
    "    'prior': project_paths['PROJECT_DIR']+'model-prior/prior_npfps_e{}.npy'.format(model_e['prior']),\n",
    "    'vgpc': project_paths['PROJECT_DIR']+'model-kor/vgpc/kor_vgpc_npfps_e{}.npy'.format(model_e['vgpc']),\n",
    "    'segler': project_paths['PROJECT_DIR']+'model-kor/segler/kor_segler_npfps_e{}.npy'.format(model_e['segler']),\n",
    "    'reinv': project_paths['PROJECT_DIR']+'model-kor/reinvent/kor_reinv_npfps_e{}.npy'.format(model_e['reinv']),\n",
    "    'drugex': project_paths['PROJECT_DIR']+'model-kor/drugex/kor_drugex_npfps_e{}.npy'.format(model_e['drugex']),\n",
    "    'logics': project_paths['PROJECT_DIR']+'model-kor/logics/kor_logics_npfps_e{}.npy'.format(model_e['logics'])\n",
    "}\n",
    "paths_fc_vecs = {\n",
    "    'prior': project_paths['PROJECT_DIR']+'model-prior/prior_fcvec_e{}.npy'.format(model_e['prior']),\n",
    "    'vgpc': project_paths['PROJECT_DIR']+'model-kor/vgpc/kor_vgpc_fcvec_e{}.npy'.format(model_e['vgpc']),\n",
    "    'segler': project_paths['PROJECT_DIR']+'model-kor/segler/kor_segler_fcvec_e{}.npy'.format(model_e['segler']),\n",
    "    'reinv': project_paths['PROJECT_DIR']+'model-kor/reinvent/kor_reinv_fcvec_e{}.npy'.format(model_e['reinv']),\n",
    "    'drugex': project_paths['PROJECT_DIR']+'model-kor/drugex/kor_drugex_fcvec_e{}.npy'.format(model_e['drugex']),\n",
    "    'logics': project_paths['PROJECT_DIR']+'model-kor/logics/kor_logics_fcvec_e{}.npy'.format(model_e['logics'])\n",
    "}"
   ]
  },
  {
   "cell_type": "code",
   "execution_count": 8,
   "id": "274f7d2c",
   "metadata": {},
   "outputs": [
    {
     "data": {
      "text/plain": [
       "1583442"
      ]
     },
     "execution_count": 8,
     "metadata": {},
     "output_type": "execute_result"
    }
   ],
   "source": [
    "# pre-training dataset loading\n",
    "with open(project_paths['PRETRAINING_DATA_PATH'], 'r') as f:\n",
    "    pret_smis = [line.strip() for line in f.readlines()]\n",
    "len(pret_smis)"
   ]
  },
  {
   "cell_type": "code",
   "execution_count": 9,
   "id": "f951b747",
   "metadata": {},
   "outputs": [
    {
     "data": {
      "text/plain": [
       "RandomForestRegressor()"
      ]
     },
     "execution_count": 9,
     "metadata": {},
     "output_type": "execute_result"
    }
   ],
   "source": [
    "# loading predictor \n",
    "pred_path = project_paths['PROJECT_DIR'] + \"model-kor/predictor/kor_rfr_cv{}.pkl\".format(expset_obj.get_setting(\"kor-pred-best-cv\"))\n",
    "with open(pred_path, 'rb') as f:\n",
    "    predictor = pickle.load(f)\n",
    "predictor"
   ]
  },
  {
   "cell_type": "code",
   "execution_count": 10,
   "id": "da06091b",
   "metadata": {},
   "outputs": [],
   "source": [
    "# loading test set actives (tsa)\n",
    "affinity_data = pd.read_csv(project_paths['KOR_DATA_PATH'])\n",
    "with open(project_paths['KOR_FOLD_JSON'], 'r') as f:\n",
    "    folds = json.load(f)\n",
    "test_ids = folds[str(global_settings.TEST_FOLD_IDX)]\n",
    "test_data = affinity_data.iloc[test_ids]\n",
    "\n",
    "tsa_data = test_data[test_data['affinity']>global_settings.KOR_ACT_THRS]  # active among test set\n",
    "tsa_smis = tsa_data['smiles'].tolist()\n",
    "tsa_rdkfps = chemistry.get_fps_from_smilist(tsa_smis)\n",
    "tsa_fc_vecs = fcd.get_predictions(fc_ref_model, tsa_smis)"
   ]
  },
  {
   "cell_type": "code",
   "execution_count": 11,
   "id": "476e38ed",
   "metadata": {},
   "outputs": [],
   "source": [
    "# evaluation config objects\n",
    "evcons = {}\n",
    "for mn in model_names:\n",
    "    with open(paths_vc[mn], 'r') as f:\n",
    "        vc_smis = [line.strip() for line in f.readlines()]\n",
    "    npfps = np.load(paths_npfps[mn])\n",
    "    fc_vecs = np.load(paths_fc_vecs[mn])\n",
    "    evc = evaluation.EvalConfig(\n",
    "            ssize=SAMPLE_SIZE, vc_smis=vc_smis, npfps=npfps, simmat_size=INTDIV_SIZE, fc_vecs=fc_vecs,\n",
    "            data_smis=tsa_data, data_rdkfps=tsa_rdkfps, data_fc_vecs=tsa_fc_vecs, ot_repeats=global_settings.OT_CALC_REPEATS\n",
    "    )\n",
    "    evcons[mn] = evc"
   ]
  },
  {
   "cell_type": "code",
   "execution_count": 12,
   "id": "0a4d1dc3",
   "metadata": {},
   "outputs": [
    {
     "name": "stdout",
     "output_type": "stream",
     "text": [
      "prior\n",
      "vgpc\n",
      "segler\n",
      "reinv\n",
      "drugex\n",
      "logics\n"
     ]
    }
   ],
   "source": [
    "# evaluate and fillout the performance table\n",
    "for mn in model_names:\n",
    "    print(mn)\n",
    "    va, uni, nov, div = evaluation.eval_standard(evcons[mn], pret_smis)\n",
    "    predact, pwsim, fcdval, otdval = evaluation.eval_optimization(evcons[mn], predictor)\n",
    "    perf_table[mn]['validity'] = va\n",
    "    perf_table[mn]['uniqueness'] = uni\n",
    "    perf_table[mn]['novelty'] = nov\n",
    "    perf_table[mn]['diversity'] = div\n",
    "    perf_table[mn]['PredAct'] = predact\n",
    "    perf_table[mn]['PwSim'] = pwsim\n",
    "    perf_table[mn]['FCD'] = fcdval\n",
    "    perf_table[mn]['OTD'] = otdval"
   ]
  },
  {
   "cell_type": "code",
   "execution_count": 13,
   "id": "2e1921a9",
   "metadata": {},
   "outputs": [
    {
     "data": {
      "text/html": [
       "<div>\n",
       "<style scoped>\n",
       "    .dataframe tbody tr th:only-of-type {\n",
       "        vertical-align: middle;\n",
       "    }\n",
       "\n",
       "    .dataframe tbody tr th {\n",
       "        vertical-align: top;\n",
       "    }\n",
       "\n",
       "    .dataframe thead th {\n",
       "        text-align: right;\n",
       "    }\n",
       "</style>\n",
       "<table border=\"1\" class=\"dataframe\">\n",
       "  <thead>\n",
       "    <tr style=\"text-align: right;\">\n",
       "      <th></th>\n",
       "      <th>prior</th>\n",
       "      <th>vgpc</th>\n",
       "      <th>segler</th>\n",
       "      <th>reinv</th>\n",
       "      <th>drugex</th>\n",
       "      <th>logics</th>\n",
       "    </tr>\n",
       "  </thead>\n",
       "  <tbody>\n",
       "    <tr>\n",
       "      <th>validity</th>\n",
       "      <td>0.95365</td>\n",
       "      <td>0.8784</td>\n",
       "      <td>0.9685</td>\n",
       "      <td>0.9889</td>\n",
       "      <td>0.9794</td>\n",
       "      <td>0.98485</td>\n",
       "    </tr>\n",
       "    <tr>\n",
       "      <th>uniqueness</th>\n",
       "      <td>0.999266</td>\n",
       "      <td>0.995048</td>\n",
       "      <td>0.943108</td>\n",
       "      <td>0.910052</td>\n",
       "      <td>0.996477</td>\n",
       "      <td>0.992689</td>\n",
       "    </tr>\n",
       "    <tr>\n",
       "      <th>novelty</th>\n",
       "      <td>0.948318</td>\n",
       "      <td>0.998227</td>\n",
       "      <td>0.997208</td>\n",
       "      <td>0.941886</td>\n",
       "      <td>0.991598</td>\n",
       "      <td>0.986447</td>\n",
       "    </tr>\n",
       "    <tr>\n",
       "      <th>diversity</th>\n",
       "      <td>0.88942</td>\n",
       "      <td>0.801062</td>\n",
       "      <td>0.853575</td>\n",
       "      <td>0.870009</td>\n",
       "      <td>0.83221</td>\n",
       "      <td>0.85734</td>\n",
       "    </tr>\n",
       "    <tr>\n",
       "      <th>PredAct</th>\n",
       "      <td>5.952136</td>\n",
       "      <td>7.042889</td>\n",
       "      <td>8.310055</td>\n",
       "      <td>7.02482</td>\n",
       "      <td>7.111535</td>\n",
       "      <td>7.571087</td>\n",
       "    </tr>\n",
       "    <tr>\n",
       "      <th>PwSim</th>\n",
       "      <td>0.109935</td>\n",
       "      <td>0.106264</td>\n",
       "      <td>0.129759</td>\n",
       "      <td>0.123477</td>\n",
       "      <td>0.124162</td>\n",
       "      <td>0.131003</td>\n",
       "    </tr>\n",
       "    <tr>\n",
       "      <th>FCD</th>\n",
       "      <td>27.326926</td>\n",
       "      <td>38.828221</td>\n",
       "      <td>22.366105</td>\n",
       "      <td>25.968452</td>\n",
       "      <td>30.598097</td>\n",
       "      <td>22.205187</td>\n",
       "    </tr>\n",
       "    <tr>\n",
       "      <th>OTD</th>\n",
       "      <td>5.384638</td>\n",
       "      <td>5.852848</td>\n",
       "      <td>5.100843</td>\n",
       "      <td>5.102824</td>\n",
       "      <td>5.383503</td>\n",
       "      <td>4.952175</td>\n",
       "    </tr>\n",
       "  </tbody>\n",
       "</table>\n",
       "</div>"
      ],
      "text/plain": [
       "                prior       vgpc     segler      reinv     drugex     logics\n",
       "validity      0.95365     0.8784     0.9685     0.9889     0.9794    0.98485\n",
       "uniqueness   0.999266   0.995048   0.943108   0.910052   0.996477   0.992689\n",
       "novelty      0.948318   0.998227   0.997208   0.941886   0.991598   0.986447\n",
       "diversity     0.88942   0.801062   0.853575   0.870009    0.83221    0.85734\n",
       "PredAct      5.952136   7.042889   8.310055    7.02482   7.111535   7.571087\n",
       "PwSim        0.109935   0.106264   0.129759   0.123477   0.124162   0.131003\n",
       "FCD         27.326926  38.828221  22.366105  25.968452  30.598097  22.205187\n",
       "OTD          5.384638   5.852848   5.100843   5.102824   5.383503   4.952175"
      ]
     },
     "execution_count": 13,
     "metadata": {},
     "output_type": "execute_result"
    }
   ],
   "source": [
    "perf_table"
   ]
  },
  {
   "cell_type": "code",
   "execution_count": null,
   "id": "95a91968",
   "metadata": {},
   "outputs": [],
   "source": []
  },
  {
   "cell_type": "code",
   "execution_count": null,
   "id": "b9cb04b1",
   "metadata": {},
   "outputs": [],
   "source": []
  }
 ],
 "metadata": {
  "kernelspec": {
   "display_name": "logics",
   "language": "python",
   "name": "logics"
  },
  "language_info": {
   "codemirror_mode": {
    "name": "ipython",
    "version": 3
   },
   "file_extension": ".py",
   "mimetype": "text/x-python",
   "name": "python",
   "nbconvert_exporter": "python",
   "pygments_lexer": "ipython3",
   "version": "3.7.16"
  }
 },
 "nbformat": 4,
 "nbformat_minor": 5
}
